{
 "cells": [
  {
   "cell_type": "markdown",
   "metadata": {
    "_cell_guid": "b1076dfc-b9ad-4769-8c92-a6c4dae69d19",
    "_uuid": "8f2839f25d086af736a60e9eeb907d3b93b6e0e5",
    "jp-MarkdownHeadingCollapsed": true
   },
   "source": [
    "# <p><center style=\"font-family:newtimeroman;font-size:180%;\"> Gender Detection Based on User Information </center></p>\n",
    "### Table of contents:\n",
    "\n",
    "* [Introduction](#1)\n",
    "* [Import Libraries](#2)\n",
    "* [Import Dataset](#3)\n",
    "* [Preprocessing & Feature Engineering](#4)\n",
    "* [Train Some Models](#5)\n",
    "* [Select The Best Model](#6)\n",
    "* [Evaluate The Model](#7)"
   ]
  },
  {
   "cell_type": "markdown",
   "metadata": {
    "execution": {
     "iopub.execute_input": "2023-08-14T19:17:39.967019Z",
     "iopub.status.busy": "2023-08-14T19:17:39.966306Z"
    }
   },
   "source": [
    "<a id=\"1\"></a>\n",
    "# <p style=\"background-image: url(https://i.postimg.cc/K87ByXmr/stage5.jpg);font-family:camtasia;font-size:120%;color:white;text-align:center;border-radius:15px 50px; padding:7px\"> Introduction</p>"
   ]
  },
  {
   "cell_type": "markdown",
   "metadata": {},
   "source": [
    "<html>\n",
    "<head>\n",
    "</head>\n",
    "<body>\n",
    "  <h1>Gender Detection Based on User Information</h1>\n",
    "  <p>Social networks have broad applications in today's world. Initially, they are used for entertainment and leisure. However, from another perspective, social networks can be utilized to identify behavioral patterns. For instance, by analyzing user opinions on social networks, we can identify weaknesses in our businesses.\n",
    "Gender is one of the influential parameters in user behavior. When faced with a topic, women tend to react differently compared to men.\n",
    "In this notebook, we intend to predict the gender of individuals based on the data provided by Twitter and Instagram users.</p>\n",
    "</body>\n",
    "</html>"
   ]
  },
  {
   "cell_type": "markdown",
   "metadata": {},
   "source": [
    "<html>\n",
    "<head>\n",
    "\n",
    "<style>\n",
    "body {\n",
    "  font-family: Arial, sans-serif;\n",
    "  font-size: 16px;\n",
    "  line-height: 1.6;\n",
    "}\n",
    "\n",
    "h1 {\n",
    "  text-align: center;\n",
    "  margin-bottom: 30px;\n",
    "}\n",
    "\n",
    "table {\n",
    "  margin: 0 auto;\n",
    "  border-collapse: collapse;\n",
    "  width: 100%;\n",
    "}\n",
    "\n",
    "th, td {\n",
    "  padding: 10px;\n",
    "  text-align: left;\n",
    "  border-bottom: 1px solid #ddd;\n",
    "}\n",
    "\n",
    "th {\n",
    "  background-color: #f2f2f2;\n",
    "}\n",
    "\n",
    ".description {\n",
    "  text-align: left;\n",
    "}\n",
    "</style>\n",
    "</head>\n",
    "<body>\n",
    "<h1>DataSet</h1>\n",
    "<p>The training dataset consists of 8000 rows and 10 columns. More information about the data is provided in the table below.</p>\n",
    "<table>\n",
    "<tr>\n",
    "<th>Column</th>\n",
    "<th>Description</th>\n",
    "</tr>\n",
    "<tr>\n",
    "<td class=\"description\">Gender (Target Column)</td>\n",
    "<td><code>Gender</code></td>\n",
    "</tr>\n",
    "<tr>\n",
    "<td class=\"description\">Age range of the user</td>\n",
    "<td><code>Age</code></td>\n",
    "</tr>\n",
    "<tr>\n",
    "<td class=\"description\">The name written in the social network profile</td>\n",
    "<td><code>FullName</code></td>\n",
    "</tr>\n",
    "<tr>\n",
    "<td class=\"description\">user name</td>\n",
    "<td><code>UserName</code></td>\n",
    "</tr>\n",
    "<tr>\n",
    "<td class=\"description\">Biography of the user's social network</td>\n",
    "<td><code>Biography</code></td>\n",
    "</tr>\n",
    "<tr>\n",
    "<td class=\"description\">The number of followers the user has</td>\n",
    "<td><code>Follower_Count</code></td>\n",
    "</tr>\n",
    "<tr>\n",
    "<td class=\"description\">The Number of people following the user</td>\n",
    "<td><code>Following_Count</code></td>\n",
    "</tr>\n",
    "<tr>\n",
    "<td class=\"description\">The business nature of the user account</td>\n",
    "<td><code>Is_Business</code></td>\n",
    "</tr>\n",
    "<tr>\n",
    "<td class=\"description\">The user account has been verified</td>\n",
    "<td><code>Is_Verified</code></td>\n",
    "</tr>\n",
    "<tr>\n",
    "<td class=\"description\">Account privacy</td>\n",
    "<td><code>Is_Private</code></td>\n",
    "</tr>\n",
    "</table>\n",
    "</body>\n",
    "</html>"
   ]
  },
  {
   "cell_type": "markdown",
   "metadata": {},
   "source": [
    "<a id=\"2\"></a>\n",
    "# <p style=\"background-image: url(https://i.postimg.cc/K87ByXmr/stage5.jpg);font-family:camtasia;font-size:120%;color:white;text-align:center;border-radius:15px 50px; padding:7px\">Import Libraries </p>"
   ]
  },
  {
   "cell_type": "code",
   "execution_count": 1,
   "metadata": {
    "execution": {
     "iopub.execute_input": "2023-08-21T18:44:29.723498Z",
     "iopub.status.busy": "2023-08-21T18:44:29.723010Z",
     "iopub.status.idle": "2023-08-21T18:44:31.245312Z",
     "shell.execute_reply": "2023-08-21T18:44:31.244147Z",
     "shell.execute_reply.started": "2023-08-21T18:44:29.723458Z"
    }
   },
   "outputs": [],
   "source": [
    "# import the necessary libraries\n",
    "import numpy as np\n",
    "import pandas as pd\n",
    "import matplotlib.pyplot as plt\n",
    "import seaborn as sns\n",
    "sns.set_theme(style=\"darkgrid\")\n",
    "from emoji import emoji_count\n",
    "from sklearn.model_selection import train_test_split\n",
    "from sklearn.preprocessing import LabelEncoder\n",
    "import nltk\n",
    "import string\n",
    "from nltk.tokenize import word_tokenize\n",
    "import re\n",
    "from nltk.corpus import stopwords\n",
    "from nltk.stem import WordNetLemmatizer\n",
    "from sklearn.feature_extraction.text import TfidfVectorizer\n",
    "from sklearn.model_selection import GridSearchCV\n",
    "from sklearn.model_selection import cross_val_score\n",
    "from sklearn.model_selection import StratifiedKFold\n",
    "from sklearn.tree import DecisionTreeClassifier\n",
    "from sklearn.ensemble import ExtraTreesClassifier\n",
    "from sklearn.ensemble import RandomForestClassifier\n",
    "from xgboost import XGBClassifier\n",
    "from sklearn.metrics import classification_report , confusion_matrix\n",
    "import warnings\n",
    "warnings.filterwarnings('ignore')"
   ]
  },
  {
   "cell_type": "markdown",
   "metadata": {},
   "source": [
    "<a id=\"3\"></a>\n",
    "# <p style=\"background-image: url(https://i.postimg.cc/K87ByXmr/stage5.jpg);font-family:camtasia;font-size:120%;color:white;text-align:center;border-radius:15px 50px; padding:7px\">Import Dataset </p>\n",
    "<a class=\"btn\" href=\"#home\">Tabel of Contents</a>"
   ]
  },
  {
   "cell_type": "code",
   "execution_count": 2,
   "metadata": {
    "execution": {
     "iopub.execute_input": "2023-08-21T18:44:31.247560Z",
     "iopub.status.busy": "2023-08-21T18:44:31.247165Z",
     "iopub.status.idle": "2023-08-21T18:44:31.388434Z",
     "shell.execute_reply": "2023-08-21T18:44:31.387201Z",
     "shell.execute_reply.started": "2023-08-21T18:44:31.247519Z"
    }
   },
   "outputs": [
    {
     "data": {
      "text/html": [
       "<div>\n",
       "<style scoped>\n",
       "    .dataframe tbody tr th:only-of-type {\n",
       "        vertical-align: middle;\n",
       "    }\n",
       "\n",
       "    .dataframe tbody tr th {\n",
       "        vertical-align: top;\n",
       "    }\n",
       "\n",
       "    .dataframe thead th {\n",
       "        text-align: right;\n",
       "    }\n",
       "</style>\n",
       "<table border=\"1\" class=\"dataframe\">\n",
       "  <thead>\n",
       "    <tr style=\"text-align: right;\">\n",
       "      <th></th>\n",
       "      <th>gender</th>\n",
       "      <th>age</th>\n",
       "      <th>fullname</th>\n",
       "      <th>username</th>\n",
       "      <th>biography</th>\n",
       "      <th>follower_count</th>\n",
       "      <th>following_count</th>\n",
       "      <th>is_business</th>\n",
       "      <th>is_verified</th>\n",
       "      <th>is_private</th>\n",
       "    </tr>\n",
       "  </thead>\n",
       "  <tbody>\n",
       "    <tr>\n",
       "      <th>0</th>\n",
       "      <td>man</td>\n",
       "      <td>2</td>\n",
       "      <td>Farshid</td>\n",
       "      <td>mr_gh_farshid</td>\n",
       "      <td>دردا ک در این بادیه بسیار دویدیم...\\nGlory man...</td>\n",
       "      <td>1604.0</td>\n",
       "      <td>1407.0</td>\n",
       "      <td>0.0</td>\n",
       "      <td>0.0</td>\n",
       "      <td>0.0</td>\n",
       "    </tr>\n",
       "    <tr>\n",
       "      <th>1</th>\n",
       "      <td>woman</td>\n",
       "      <td>2</td>\n",
       "      <td>zahr@72</td>\n",
       "      <td>zahra.roozbahani72</td>\n",
       "      <td>خواهی که زکوچ در امان برگردی\\nباید که به جان ,...</td>\n",
       "      <td>67.0</td>\n",
       "      <td>501.0</td>\n",
       "      <td>0.0</td>\n",
       "      <td>0.0</td>\n",
       "      <td>0.0</td>\n",
       "    </tr>\n",
       "    <tr>\n",
       "      <th>2</th>\n",
       "      <td>woman</td>\n",
       "      <td>2</td>\n",
       "      <td>ms farahnaz♥</td>\n",
       "      <td>___lady.farahnazi.__</td>\n",
       "      <td>Having you,  is all I wish for \\nداشتنت، تمامِ...</td>\n",
       "      <td>0.0</td>\n",
       "      <td>0.0</td>\n",
       "      <td>0.0</td>\n",
       "      <td>0.0</td>\n",
       "      <td>0.0</td>\n",
       "    </tr>\n",
       "    <tr>\n",
       "      <th>3</th>\n",
       "      <td>woman</td>\n",
       "      <td>1</td>\n",
       "      <td>Lena.mommy farzan</td>\n",
       "      <td>mommy.lena3361</td>\n",
       "      <td>دردونه من لنا کوچولو</td>\n",
       "      <td>0.0</td>\n",
       "      <td>0.0</td>\n",
       "      <td>0.0</td>\n",
       "      <td>0.0</td>\n",
       "      <td>0.0</td>\n",
       "    </tr>\n",
       "    <tr>\n",
       "      <th>4</th>\n",
       "      <td>woman</td>\n",
       "      <td>2</td>\n",
       "      <td>Narsis Asadollahi</td>\n",
       "      <td>_l.aurora.l_</td>\n",
       "      <td>I am an animation student\\n🎧🎼🎨⚓️🤍 \\n@general.m...</td>\n",
       "      <td>200.0</td>\n",
       "      <td>328.0</td>\n",
       "      <td>0.0</td>\n",
       "      <td>0.0</td>\n",
       "      <td>0.0</td>\n",
       "    </tr>\n",
       "  </tbody>\n",
       "</table>\n",
       "</div>"
      ],
      "text/plain": [
       "  gender  age           fullname              username  \\\n",
       "0    man    2            Farshid         mr_gh_farshid   \n",
       "1  woman    2            zahr@72    zahra.roozbahani72   \n",
       "2  woman    2       ms farahnaz♥  ___lady.farahnazi.__   \n",
       "3  woman    1  Lena.mommy farzan        mommy.lena3361   \n",
       "4  woman    2  Narsis Asadollahi          _l.aurora.l_   \n",
       "\n",
       "                                           biography  follower_count  \\\n",
       "0  دردا ک در این بادیه بسیار دویدیم...\\nGlory man...          1604.0   \n",
       "1  خواهی که زکوچ در امان برگردی\\nباید که به جان ,...            67.0   \n",
       "2  Having you,  is all I wish for \\nداشتنت، تمامِ...             0.0   \n",
       "3                               دردونه من لنا کوچولو             0.0   \n",
       "4  I am an animation student\\n🎧🎼🎨⚓️🤍 \\n@general.m...           200.0   \n",
       "\n",
       "   following_count  is_business  is_verified  is_private  \n",
       "0           1407.0          0.0          0.0         0.0  \n",
       "1            501.0          0.0          0.0         0.0  \n",
       "2              0.0          0.0          0.0         0.0  \n",
       "3              0.0          0.0          0.0         0.0  \n",
       "4            328.0          0.0          0.0         0.0  "
      ]
     },
     "execution_count": 2,
     "metadata": {},
     "output_type": "execute_result"
    }
   ],
   "source": [
    "# Import DataSet\n",
    "train = pd.read_csv('train_data.csv')\n",
    "train.head()"
   ]
  },
  {
   "cell_type": "code",
   "execution_count": 3,
   "metadata": {},
   "outputs": [
    {
     "name": "stdout",
     "output_type": "stream",
     "text": [
      "<class 'pandas.core.frame.DataFrame'>\n",
      "RangeIndex: 8000 entries, 0 to 7999\n",
      "Data columns (total 10 columns):\n",
      " #   Column           Non-Null Count  Dtype  \n",
      "---  ------           --------------  -----  \n",
      " 0   gender           8000 non-null   object \n",
      " 1   age              8000 non-null   int64  \n",
      " 2   fullname         8000 non-null   object \n",
      " 3   username         8000 non-null   object \n",
      " 4   biography        8000 non-null   object \n",
      " 5   follower_count   8000 non-null   float64\n",
      " 6   following_count  8000 non-null   float64\n",
      " 7   is_business      7997 non-null   float64\n",
      " 8   is_verified      8000 non-null   float64\n",
      " 9   is_private       8000 non-null   float64\n",
      "dtypes: float64(5), int64(1), object(4)\n",
      "memory usage: 625.1+ KB\n"
     ]
    }
   ],
   "source": [
    "# Get more Information about DataSet\n",
    "train.info()"
   ]
  },
  {
   "cell_type": "markdown",
   "metadata": {},
   "source": [
    "<a id=\"4\"></a>\n",
    "# <p style=\"background-image: url(https://i.postimg.cc/K87ByXmr/stage5.jpg);font-family:camtasia;font-size:120%;color:white;text-align:center;border-radius:15px 50px; padding:7px\">Preprocessing & Feature Engineering </p>\n",
    "<a class=\"btn\" href=\"#home\">Tabel of Contents</a>"
   ]
  },
  {
   "cell_type": "code",
   "execution_count": 4,
   "metadata": {
    "execution": {
     "iopub.execute_input": "2023-08-21T18:44:31.454597Z",
     "iopub.status.busy": "2023-08-21T18:44:31.454046Z",
     "iopub.status.idle": "2023-08-21T18:44:32.992217Z",
     "shell.execute_reply": "2023-08-21T18:44:32.991387Z",
     "shell.execute_reply.started": "2023-08-21T18:44:31.454561Z"
    }
   },
   "outputs": [
    {
     "data": {
      "text/plain": [
       "<AxesSubplot: xlabel='gender', ylabel='count'>"
      ]
     },
     "execution_count": 4,
     "metadata": {},
     "output_type": "execute_result"
    },
    {
     "data": {
      "image/png": "[encoded data removed]",
      "text/plain": [
       "<Figure size 640x480 with 1 Axes>"
      ]
     },
     "metadata": {},
     "output_type": "display_data"
    }
   ],
   "source": [
    "# Gender Distribution in Training Data: Countplot\n",
    "sns.countplot(train.gender)"
   ]
  },
  {
   "cell_type": "code",
   "execution_count": 5,
   "metadata": {
    "execution": {
     "iopub.execute_input": "2023-08-21T18:44:31.392292Z",
     "iopub.status.busy": "2023-08-21T18:44:31.391872Z",
     "iopub.status.idle": "2023-08-21T18:44:31.418693Z",
     "shell.execute_reply": "2023-08-21T18:44:31.417665Z",
     "shell.execute_reply.started": "2023-08-21T18:44:31.392254Z"
    }
   },
   "outputs": [],
   "source": [
    "# Delete duplicated rows in dataset\n",
    "def duplicated_rows(df):\n",
    "    df=df.drop_duplicates(keep='first')\n",
    "    return df\n",
    "\n",
    "train= duplicated_rows(train)"
   ]
  },
  {
   "cell_type": "code",
   "execution_count": 6,
   "metadata": {
    "execution": {
     "iopub.execute_input": "2023-08-21T18:44:31.420777Z",
     "iopub.status.busy": "2023-08-21T18:44:31.420182Z",
     "iopub.status.idle": "2023-08-21T18:44:31.452451Z",
     "shell.execute_reply": "2023-08-21T18:44:31.451327Z",
     "shell.execute_reply.started": "2023-08-21T18:44:31.420738Z"
    }
   },
   "outputs": [],
   "source": [
    "# Removing NaN Values from 'is_business' Column in Training Data\n",
    "train = train.dropna(subset=['is_business'], axis=0)"
   ]
  },
  {
   "cell_type": "code",
   "execution_count": 7,
   "metadata": {},
   "outputs": [],
   "source": [
    "# Calculating Emoji Count in 'biography' Column of Training Data\n",
    "train['emoji_count'] = train.biography.apply(emoji_count)"
   ]
  },
  {
   "cell_type": "code",
   "execution_count": 8,
   "metadata": {},
   "outputs": [
    {
     "data": {
      "text/plain": [
       "<AxesSubplot: xlabel='emoji_count', ylabel='Density'>"
      ]
     },
     "execution_count": 8,
     "metadata": {},
     "output_type": "execute_result"
    },
    {
     "data": {
      "image/png": "[encoded data removed]",
      "text/plain": [
       "<Figure size 640x480 with 1 Axes>"
      ]
     },
     "metadata": {},
     "output_type": "display_data"
    }
   ],
   "source": [
    "# Kernel Density Estimation of Emoji Count by Gender in Training Data\n",
    "sns.kdeplot(train.emoji_count, hue=train.gender)"
   ]
  },
  {
   "cell_type": "code",
   "execution_count": 9,
   "metadata": {},
   "outputs": [],
   "source": [
    "# Calculating Biography Length in Terms of Word Count in Training Data\n",
    "train['bio_lenght']= train.biography.apply(lambda s : len(s.split()))"
   ]
  },
  {
   "cell_type": "code",
   "execution_count": 10,
   "metadata": {},
   "outputs": [
    {
     "data": {
      "text/plain": [
       "<AxesSubplot: xlabel='bio_lenght', ylabel='Density'>"
      ]
     },
     "execution_count": 10,
     "metadata": {},
     "output_type": "execute_result"
    },
    {
     "data": {
      "image/png": "[encoded data removed]",
      "text/plain": [
       "<Figure size 640x480 with 1 Axes>"
      ]
     },
     "metadata": {},
     "output_type": "display_data"
    }
   ],
   "source": [
    "# Kernel Density Estimation of Biography Length by Gender in Training Data\n",
    "sns.kdeplot(train.bio_lenght, hue=train.gender)"
   ]
  },
  {
   "cell_type": "code",
   "execution_count": 11,
   "metadata": {
    "execution": {
     "iopub.execute_input": "2023-08-21T18:44:32.993561Z",
     "iopub.status.busy": "2023-08-21T18:44:32.993244Z",
     "iopub.status.idle": "2023-08-21T18:44:33.016425Z",
     "shell.execute_reply": "2023-08-21T18:44:33.015280Z",
     "shell.execute_reply.started": "2023-08-21T18:44:32.993525Z"
    },
    "scrolled": true
   },
   "outputs": [
    {
     "name": "stdout",
     "output_type": "stream",
     "text": [
      "gender\n",
      "man      3999\n",
      "woman    3998\n",
      "Name: count, dtype: int64\n",
      "++++++++++++++++++++++++++++++++++\n",
      "age\n",
      "2    3427\n",
      "3    3370\n",
      "4    1036\n",
      "1     164\n",
      "Name: count, dtype: int64\n",
      "++++++++++++++++++++++++++++++++++\n",
      "is_business\n",
      "0.0    7171\n",
      "1.0     826\n",
      "Name: count, dtype: int64\n",
      "++++++++++++++++++++++++++++++++++\n",
      "is_verified\n",
      "0.0    7996\n",
      "1.0       1\n",
      "Name: count, dtype: int64\n",
      "++++++++++++++++++++++++++++++++++\n",
      "is_private\n",
      "0.0    7997\n",
      "Name: count, dtype: int64\n",
      "++++++++++++++++++++++++++++++++++\n"
     ]
    }
   ],
   "source": [
    "# Value Counts for categorical Columns\n",
    "def show_count_values(*args):\n",
    "    for col in args:\n",
    "        print(train[col].value_counts())\n",
    "        print(\"++++++++++++++++++++++++++++++++++\")\n",
    "\n",
    "show_count_values('gender','age','is_business','is_verified','is_private')"
   ]
  },
  {
   "cell_type": "markdown",
   "metadata": {},
   "source": [
    "<!DOCTYPE html>\n",
    "<html>\n",
    "<head>\n",
    "</head>\n",
    "<body>\n",
    "  <h1>Removing Redundant Columns: Streamlining Data and Enhancing Analysis Efficiency</h1>\n",
    "  <p>\n",
    "When all values in a column are the same, it is considered a \"duplicate\" or \"fixed\" situation. In such cases, it is advisable to remove the column as it has no impact on modeling and provides no valuable information. Removing redundant columns streamlines the dataset, improves efficiency, and allows for clearer analysis of remaining features.\n",
    "  </p>\n",
    "</body>\n",
    "</html>"
   ]
  },
  {
   "cell_type": "code",
   "execution_count": 12,
   "metadata": {},
   "outputs": [
    {
     "data": {
      "image/png": "[encoded data removed]",
      "text/plain": [
       "<Figure size 640x480 with 1 Axes>"
      ]
     },
     "metadata": {},
     "output_type": "display_data"
    },
    {
     "data": {
      "image/png": "[encoded data removed]",
      "text/plain": [
       "<Figure size 640x480 with 1 Axes>"
      ]
     },
     "metadata": {},
     "output_type": "display_data"
    }
   ],
   "source": [
    "# Value Counts for categorical Columns\n",
    "def show_count_values(*args):\n",
    "    for col in args:\n",
    "        value_counts = train[col].value_counts()\n",
    "        value_counts.plot(kind='bar')\n",
    "        plt.title(f'{col} Value Counts')\n",
    "        plt.xlabel(col)\n",
    "        plt.ylabel('Count')\n",
    "        plt.show()\n",
    "\n",
    "# Call the show_count_values function to display figures for the specified columns\n",
    "show_count_values('is_verified', 'is_private')"
   ]
  },
  {
   "cell_type": "code",
   "execution_count": 13,
   "metadata": {
    "execution": {
     "iopub.execute_input": "2023-08-21T18:44:33.018604Z",
     "iopub.status.busy": "2023-08-21T18:44:33.018254Z",
     "iopub.status.idle": "2023-08-21T18:44:33.031268Z",
     "shell.execute_reply": "2023-08-21T18:44:33.030257Z",
     "shell.execute_reply.started": "2023-08-21T18:44:33.018572Z"
    }
   },
   "outputs": [],
   "source": [
    "# Function to Remove Constant Columns from a DataFrame\n",
    "def remove_constant_col(df, *args):\n",
    "    for col in args:\n",
    "        df = df.drop(col, axis=1)\n",
    "    return df\n",
    "\n",
    "train = remove_constant_col(train, 'is_verified','is_private')\n",
    "    "
   ]
  },
  {
   "cell_type": "code",
   "execution_count": 14,
   "metadata": {
    "execution": {
     "iopub.execute_input": "2023-08-21T18:44:33.033244Z",
     "iopub.status.busy": "2023-08-21T18:44:33.032822Z",
     "iopub.status.idle": "2023-08-21T18:44:33.045282Z",
     "shell.execute_reply": "2023-08-21T18:44:33.044265Z",
     "shell.execute_reply.started": "2023-08-21T18:44:33.033210Z"
    }
   },
   "outputs": [],
   "source": [
    "# Split Dataset to train and validation\n",
    "y=train.gender\n",
    "x=train.drop(columns='gender')\n",
    "\n",
    "x_train ,x_val, y_train, y_val = train_test_split(x, y, test_size=0.2, shuffle=True, random_state=24) "
   ]
  },
  {
   "cell_type": "code",
   "execution_count": 15,
   "metadata": {
    "execution": {
     "iopub.execute_input": "2023-08-21T18:44:33.049101Z",
     "iopub.status.busy": "2023-08-21T18:44:33.048820Z",
     "iopub.status.idle": "2023-08-21T18:44:33.057452Z",
     "shell.execute_reply": "2023-08-21T18:44:33.056479Z",
     "shell.execute_reply.started": "2023-08-21T18:44:33.049077Z"
    }
   },
   "outputs": [],
   "source": [
    "# Encoding Categorical Target Variables using LabelEncoder\n",
    "def encode_col(y_train):\n",
    "    encoder = LabelEncoder()\n",
    "    y_train_encoded = encoder.fit_transform(y_train)\n",
    "    return y_train_encoded\n",
    "\n",
    "y_train = encode_col(y_train)\n",
    "y_val = encode_col(y_val)"
   ]
  },
  {
   "cell_type": "code",
   "execution_count": 16,
   "metadata": {
    "execution": {
     "iopub.execute_input": "2023-08-21T18:44:33.073534Z",
     "iopub.status.busy": "2023-08-21T18:44:33.072792Z",
     "iopub.status.idle": "2023-08-21T18:44:33.081073Z",
     "shell.execute_reply": "2023-08-21T18:44:33.080046Z",
     "shell.execute_reply.started": "2023-08-21T18:44:33.073497Z"
    }
   },
   "outputs": [],
   "source": [
    "# Text Preprocessing Functions for Natural Language Processing (NLP)\n",
    "\n",
    "def preprocess_text(text):\n",
    "    text = text_lowercase(text)\n",
    "    text = remove_numbers(text)\n",
    "    text = remove_punctuation(text)\n",
    "    text = remove_whitespace(text)\n",
    "    text = remove_stopwords(text)\n",
    "    text = lemmatize_word(text)\n",
    "    return text\n",
    "\n",
    "def text_lowercase(text):\n",
    "    return text.lower()\n",
    "\n",
    "def remove_numbers(text):\n",
    "    result = re.sub(r'\\d+', '', text)\n",
    "    return result\n",
    "\n",
    "def remove_punctuation(text):\n",
    "    translator = str.maketrans('', '', string.punctuation)\n",
    "    return text.translate(translator)\n",
    "\n",
    "def remove_whitespace(text):\n",
    "    return \" \".join(text.split())\n",
    "\n",
    "def remove_stopwords(text):\n",
    "    stop_words = set(stopwords.words(\"english\"))\n",
    "    word_tokens = word_tokenize(text)\n",
    "    filtered_text = [word for word in word_tokens if word not in stop_words]\n",
    "    return \" \".join(filtered_text)\n",
    "\n",
    "def lemmatize_word(text):\n",
    "    lemmatizer = WordNetLemmatizer()\n",
    "    word_tokens = word_tokenize(text)\n",
    "    lemmas = [lemmatizer.lemmatize(word, pos='v') for word in word_tokens]\n",
    "    return \" \".join(lemmas)\n",
    "\n"
   ]
  },
  {
   "cell_type": "code",
   "execution_count": 17,
   "metadata": {
    "execution": {
     "iopub.execute_input": "2023-08-21T18:44:33.059469Z",
     "iopub.status.busy": "2023-08-21T18:44:33.059022Z",
     "iopub.status.idle": "2023-08-21T18:44:33.070693Z",
     "shell.execute_reply": "2023-08-21T18:44:33.069744Z",
     "shell.execute_reply.started": "2023-08-21T18:44:33.059438Z"
    }
   },
   "outputs": [],
   "source": [
    "# Converting Specific Columns to Integer Data Type in a DataFrame\n",
    "def convert_to_int(df, *args):\n",
    "    for col in args:\n",
    "        df[col] = df[col].astype(int)\n",
    "    return df\n",
    "\n",
    "# Convert the columns to integers in x_train\n",
    "x_train = convert_to_int(x_train, 'follower_count', 'following_count', 'is_business')\n",
    "\n",
    "# Convert the columns to integers in x_val\n",
    "x_val = convert_to_int(x_val, 'follower_count', 'following_count', 'is_business')"
   ]
  },
  {
   "cell_type": "markdown",
   "metadata": {},
   "source": [
    "<!DOCTYPE html>\n",
    "<html>\n",
    "<head>\n",
    "</head>\n",
    "<body>\n",
    "  <h1>Textual Data Extraction and Vectorization for Machine Learning Training</h1>\n",
    "  <p>\n",
    "In this step, we extract textual data from other features and use vectorization to convert it into a numerical format suitable for training machine learning models.\n",
    "  </p>\n",
    "    <h1>TF-IDF (Term Frequency-Inverse Document Frequency) vectorization</h1>\n",
    "  <p>\n",
    "TF-IDF (Term Frequency-Inverse Document Frequency) vectorization is a popular technique used in natural language processing (NLP) to convert textual data into numerical representations. It assigns weights to words based on their frequency in a document and their rarity across all documents in a corpus. The TF-IDF score reflects the importance of a word in a specific document relative to its occurrence in other documents. This vectorization method helps capture the significance of words in a document and is commonly used for tasks such as text classification, information retrieval, and clustering in machine learning.\n",
    "  </p>\n",
    "</body>\n",
    "</html>\n"
   ]
  },
  {
   "cell_type": "code",
   "execution_count": 26,
   "metadata": {
    "execution": {
     "iopub.execute_input": "2023-08-21T18:44:33.085090Z",
     "iopub.status.busy": "2023-08-21T18:44:33.084229Z"
    }
   },
   "outputs": [],
   "source": [
    "# Applying Text Preprocessing to Specific Columns in a DataFrame\n",
    "columns_to_extract = ['fullname' ,'username' ,'biography']\n",
    "for col in columns_to_extract:\n",
    "\n",
    "    x_train[col] = x_train[col].apply(preprocess_text)\n",
    "    x_val[col] = x_val[col].apply(preprocess_text)\n"
   ]
  },
  {
   "cell_type": "code",
   "execution_count": 27,
   "metadata": {},
   "outputs": [
    {
     "data": {
      "text/plain": [
       "array([[0., 0., 0., ..., 0., 0., 0.],\n",
       "       [0., 0., 0., ..., 0., 0., 0.],\n",
       "       [0., 0., 0., ..., 0., 0., 0.],\n",
       "       ...,\n",
       "       [0., 0., 0., ..., 0., 0., 0.],\n",
       "       [0., 0., 0., ..., 0., 0., 0.],\n",
       "       [0., 0., 0., ..., 0., 0., 0.]])"
      ]
     },
     "execution_count": 27,
     "metadata": {},
     "output_type": "execute_result"
    }
   ],
   "source": [
    "# TF-IDF Vectorization for Textual Features Concatenated from fullname, username, and biography\n",
    "tfidf_vectorizer = TfidfVectorizer()\n",
    "tfidf_vectorizer.fit_transform(x_train.fullname + ' ' + x_train.username + ' ' + x_train.biography).toarray()"
   ]
  },
  {
   "cell_type": "markdown",
   "metadata": {},
   "source": [
    "<a id=\"5\"></a>\n",
    "# <p style=\"background-image: url(https://i.postimg.cc/K87ByXmr/stage5.jpg);font-family:camtasia;font-size:120%;color:white;text-align:center;border-radius:15px 50px; padding:7px\">Training and Evaluation of Models Using Tree-based Algorithms</p>\n",
    "<a class=\"btn\" href=\"#home\">Tabel of Contents</a>"
   ]
  },
  {
   "cell_type": "markdown",
   "metadata": {},
   "source": [
    "<html>\n",
    "<head>\n",
    "</head>\n",
    "<body>\n",
    "  <h1>Decision tree-based algorithms</h1>\n",
    "  <p>Decision tree-based algorithms use a tree-like structure for decision-making. They are popular because they are effective and interpretable. These algorithms, like Decision Trees, Random Forests, Extra Trees, and XGBoost, can capture complex relationships, handle different types of data, and provide interpretability. Random Forests and Extra Trees reduce overfitting by using multiple trees, while XGBoost builds trees sequentially to improve performance. Decision tree-based algorithms are important for handling non-linear relationships, missing values, and large datasets. They also provide feature importance, aiding in feature selection and understanding data patterns. Overall, they are widely used for classification tasks.</p>\n",
    "</body>\n",
    "</html>"
   ]
  },
  {
   "cell_type": "code",
   "execution_count": null,
   "metadata": {},
   "outputs": [],
   "source": [
    "# Define the XGBoost model\n",
    "model = XGBClassifier()\n",
    "\n",
    "# Define the hyperparameters to be tuned\n",
    "param_grid = {\n",
    "    'n_estimators': [50, 100, 150],\n",
    "    'learning_rate': [0.01, 0.1, 0.5],\n",
    "    'max_depth': [2, 3, 4, 5],\n",
    "    'subsample': [0.5, 0.8, 1.0],\n",
    "    'colsample_bytree': [0.1, 0.2, 0.3, 0.5],\n",
    "    'colsample_bylevel' : [0.1, 0.2, 0.3, 0.5],\n",
    "    'min_child_weight': [1, 3, 5,7],\n",
    "}\n",
    "\n",
    "\n",
    "# Perform grid search to find the best hyperparameters\n",
    "kfold = StratifiedKFold(n_splits=3, shuffle=True, random_state=7)\n",
    "grid_search = GridSearchCV(model, param_grid=param_grid, cv=kfold, n_jobs=-1)\n",
    "grid_search.fit(tfidf_vectorizer.transform(x_train.fullname + ' ' + x_train.username + ' ' + x_train.biography), y_train)\n",
    "\n",
    "# Print the best hyperparameters and the corresponding score\n",
    "print(\"Best score: {:.4f}\".format(grid_search.best_score_))\n",
    "print(\"Best parameters: {}\".format(grid_search.best_params_))"
   ]
  },
  {
   "cell_type": "code",
   "execution_count": null,
   "metadata": {},
   "outputs": [],
   "source": [
    "# setup hyperparameters for XGBClassifier\n",
    "txt_model = XGBClassifier(booster= 'gbtree', learning_rate= 0.1, max_depth= 5, n_estimators=150, colsample_bylevel= 0.5, colsample_bytree=0.5, min_child_weight=1)\n",
    "txt_model.fit(tfidf_vectorizer.transform(x_train.fullname + ' ' + x_train.username + ' ' + x_train.biography), y_train)\n",
    "y_pred = txt_model.predict(tfidf_vectorizer.transform(x_val.fullname + ' ' + x_val.username + ' ' + x_val.biography))\n",
    "\n",
    "# define the evaluation method\n",
    "cv = StratifiedKFold(n_splits=5, shuffle=True, random_state=7)\n",
    "\n",
    "# evaluate the model on the dataset\n",
    "n_scores = cross_val_score(txt_model, tfidf_vectorizer.transform(x_train.fullname + ' ' + x_train.username + ' ' + x_train.biography), y_train, scoring='accuracy', cv=cv, n_jobs=-1)\n",
    "\n",
    "# report performance\n",
    "print('Mean Accuracy: %.3f (%.3f)' % (mean(n_scores), std(n_scores)))\n",
    "print(\"Accuracy score (training): {0:.3f}\".format(txt_model.score(tfidf_vectorizer.transform(x_train.fullname + ' ' + x_train.username + ' ' + x_train.biography), y_train)))\n",
    "print(\"Accuracy score (validation): {0:.3f}\".format(txt_model.score(tfidf_vectorizer.transform(x_val.fullname + ' ' + x_val.username + ' ' + x_val.biography), y_val)))"
   ]
  },
  {
   "cell_type": "code",
   "execution_count": 24,
   "metadata": {},
   "outputs": [
    {
     "data": {
      "text/html": [
       "<style>#sk-container-id-2 {color: black;}#sk-container-id-2 pre{padding: 0;}#sk-container-id-2 div.sk-toggleable {background-color: white;}#sk-container-id-2 label.sk-toggleable__label {cursor: pointer;display: block;width: 100%;margin-bottom: 0;padding: 0.3em;box-sizing: border-box;text-align: center;}#sk-container-id-2 label.sk-toggleable__label-arrow:before {content: \"▸\";float: left;margin-right: 0.25em;color: #696969;}#sk-container-id-2 label.sk-toggleable__label-arrow:hover:before {color: black;}#sk-container-id-2 div.sk-estimator:hover label.sk-toggleable__label-arrow:before {color: black;}#sk-container-id-2 div.sk-toggleable__content {max-height: 0;max-width: 0;overflow: hidden;text-align: left;background-color: #f0f8ff;}#sk-container-id-2 div.sk-toggleable__content pre {margin: 0.2em;color: black;border-radius: 0.25em;background-color: #f0f8ff;}#sk-container-id-2 input.sk-toggleable__control:checked~div.sk-toggleable__content {max-height: 200px;max-width: 100%;overflow: auto;}#sk-container-id-2 input.sk-toggleable__control:checked~label.sk-toggleable__label-arrow:before {content: \"▾\";}#sk-container-id-2 div.sk-estimator input.sk-toggleable__control:checked~label.sk-toggleable__label {background-color: #d4ebff;}#sk-container-id-2 div.sk-label input.sk-toggleable__control:checked~label.sk-toggleable__label {background-color: #d4ebff;}#sk-container-id-2 input.sk-hidden--visually {border: 0;clip: rect(1px 1px 1px 1px);clip: rect(1px, 1px, 1px, 1px);height: 1px;margin: -1px;overflow: hidden;padding: 0;position: absolute;width: 1px;}#sk-container-id-2 div.sk-estimator {font-family: monospace;background-color: #f0f8ff;border: 1px dotted black;border-radius: 0.25em;box-sizing: border-box;margin-bottom: 0.5em;}#sk-container-id-2 div.sk-estimator:hover {background-color: #d4ebff;}#sk-container-id-2 div.sk-parallel-item::after {content: \"\";width: 100%;border-bottom: 1px solid gray;flex-grow: 1;}#sk-container-id-2 div.sk-label:hover label.sk-toggleable__label {background-color: #d4ebff;}#sk-container-id-2 div.sk-serial::before {content: \"\";position: absolute;border-left: 1px solid gray;box-sizing: border-box;top: 0;bottom: 0;left: 50%;z-index: 0;}#sk-container-id-2 div.sk-serial {display: flex;flex-direction: column;align-items: center;background-color: white;padding-right: 0.2em;padding-left: 0.2em;position: relative;}#sk-container-id-2 div.sk-item {position: relative;z-index: 1;}#sk-container-id-2 div.sk-parallel {display: flex;align-items: stretch;justify-content: center;background-color: white;position: relative;}#sk-container-id-2 div.sk-item::before, #sk-container-id-2 div.sk-parallel-item::before {content: \"\";position: absolute;border-left: 1px solid gray;box-sizing: border-box;top: 0;bottom: 0;left: 50%;z-index: -1;}#sk-container-id-2 div.sk-parallel-item {display: flex;flex-direction: column;z-index: 1;position: relative;background-color: white;}#sk-container-id-2 div.sk-parallel-item:first-child::after {align-self: flex-end;width: 50%;}#sk-container-id-2 div.sk-parallel-item:last-child::after {align-self: flex-start;width: 50%;}#sk-container-id-2 div.sk-parallel-item:only-child::after {width: 0;}#sk-container-id-2 div.sk-dashed-wrapped {border: 1px dashed gray;margin: 0 0.4em 0.5em 0.4em;box-sizing: border-box;padding-bottom: 0.4em;background-color: white;}#sk-container-id-2 div.sk-label label {font-family: monospace;font-weight: bold;display: inline-block;line-height: 1.2em;}#sk-container-id-2 div.sk-label-container {text-align: center;}#sk-container-id-2 div.sk-container {/* jupyter's `normalize.less` sets `[hidden] { display: none; }` but bootstrap.min.css set `[hidden] { display: none !important; }` so we also need the `!important` here to be able to override the default hidden behavior on the sphinx rendered scikit-learn.org. See: https://github.com/scikit-learn/scikit-learn/issues/21755 */display: inline-block !important;position: relative;}#sk-container-id-2 div.sk-text-repr-fallback {display: none;}</style><div id=\"sk-container-id-2\" class=\"sk-top-container\"><div class=\"sk-text-repr-fallback\"><pre>XGBClassifier(base_score=0.5, booster=&#x27;gbtree&#x27;, callbacks=None,\n",
       "              colsample_bylevel=1, colsample_bynode=1, colsample_bytree=1,\n",
       "              early_stopping_rounds=None, enable_categorical=False,\n",
       "              eval_metric=None, feature_types=None, gamma=0, gpu_id=-1,\n",
       "              grow_policy=&#x27;depthwise&#x27;, importance_type=None,\n",
       "              interaction_constraints=&#x27;&#x27;, learning_rate=0.300000012,\n",
       "              max_bin=256, max_cat_threshold=64, max_cat_to_onehot=4,\n",
       "              max_delta_step=0, max_depth=6, max_leaves=0, min_child_weight=1,\n",
       "              missing=nan, monotone_constraints=&#x27;()&#x27;, n_estimators=100,\n",
       "              n_jobs=0, num_parallel_tree=1, predictor=&#x27;auto&#x27;, random_state=0, ...)</pre><b>In a Jupyter environment, please rerun this cell to show the HTML representation or trust the notebook. <br />On GitHub, the HTML representation is unable to render, please try loading this page with nbviewer.org.</b></div><div class=\"sk-container\" hidden><div class=\"sk-item\"><div class=\"sk-estimator sk-toggleable\"><input class=\"sk-toggleable__control sk-hidden--visually\" id=\"sk-estimator-id-2\" type=\"checkbox\" checked><label for=\"sk-estimator-id-2\" class=\"sk-toggleable__label sk-toggleable__label-arrow\">XGBClassifier</label><div class=\"sk-toggleable__content\"><pre>XGBClassifier(base_score=0.5, booster=&#x27;gbtree&#x27;, callbacks=None,\n",
       "              colsample_bylevel=1, colsample_bynode=1, colsample_bytree=1,\n",
       "              early_stopping_rounds=None, enable_categorical=False,\n",
       "              eval_metric=None, feature_types=None, gamma=0, gpu_id=-1,\n",
       "              grow_policy=&#x27;depthwise&#x27;, importance_type=None,\n",
       "              interaction_constraints=&#x27;&#x27;, learning_rate=0.300000012,\n",
       "              max_bin=256, max_cat_threshold=64, max_cat_to_onehot=4,\n",
       "              max_delta_step=0, max_depth=6, max_leaves=0, min_child_weight=1,\n",
       "              missing=nan, monotone_constraints=&#x27;()&#x27;, n_estimators=100,\n",
       "              n_jobs=0, num_parallel_tree=1, predictor=&#x27;auto&#x27;, random_state=0, ...)</pre></div></div></div></div></div>"
      ],
      "text/plain": [
       "XGBClassifier(base_score=0.5, booster='gbtree', callbacks=None,\n",
       "              colsample_bylevel=1, colsample_bynode=1, colsample_bytree=1,\n",
       "              early_stopping_rounds=None, enable_categorical=False,\n",
       "              eval_metric=None, feature_types=None, gamma=0, gpu_id=-1,\n",
       "              grow_policy='depthwise', importance_type=None,\n",
       "              interaction_constraints='', learning_rate=0.300000012,\n",
       "              max_bin=256, max_cat_threshold=64, max_cat_to_onehot=4,\n",
       "              max_delta_step=0, max_depth=6, max_leaves=0, min_child_weight=1,\n",
       "              missing=nan, monotone_constraints='()', n_estimators=100,\n",
       "              n_jobs=0, num_parallel_tree=1, predictor='auto', random_state=0, ...)"
      ]
     },
     "execution_count": 24,
     "metadata": {},
     "output_type": "execute_result"
    }
   ],
   "source": [
    "\n",
    "txt_model = XGBClassifier()\n",
    "txt_model.fit(tfidf_vectorizer.transform(x_train.fullname + ' ' + x_train.username + ' ' + x_train.biography), y_train)\n"
   ]
  },
  {
   "cell_type": "code",
   "execution_count": 25,
   "metadata": {},
   "outputs": [
    {
     "name": "stdout",
     "output_type": "stream",
     "text": [
      "              precision    recall  f1-score   support\n",
      "\n",
      "           0       0.85      0.51      0.64       816\n",
      "           1       0.64      0.91      0.75       784\n",
      "\n",
      "    accuracy                           0.70      1600\n",
      "   macro avg       0.75      0.71      0.69      1600\n",
      "weighted avg       0.75      0.70      0.69      1600\n",
      "\n"
     ]
    }
   ],
   "source": [
    "print(classification_report(y_val, \\\n",
    "                            txt_model.predict(tfidf_vectorizer.transform(x_val.fullname + ' ' + x_val.username + ' ' + x_val.biography))))"
   ]
  },
  {
   "cell_type": "markdown",
   "metadata": {},
   "source": [
    "# Save result of Prediction of Gender based on Textual Features using TF-IDF Vectorization in a new columns\n",
    "\n"
   ]
  },
  {
   "cell_type": "code",
   "execution_count": 3,
   "metadata": {},
   "outputs": [
    {
     "ename": "NameError",
     "evalue": "name 'txt_model' is not defined",
     "output_type": "error",
     "traceback": [
      "\u001b[1;31m---------------------------------------------------------------------------\u001b[0m",
      "\u001b[1;31mNameError\u001b[0m                                 Traceback (most recent call last)",
      "Cell \u001b[1;32mIn[3], line 2\u001b[0m\n\u001b[0;32m      1\u001b[0m \u001b[38;5;66;03m# Save result of Prediction of Gender based on Textual Features using TF-IDF Vectorization in a new columns\u001b[39;00m\n\u001b[1;32m----> 2\u001b[0m gender_by_txt_features_train \u001b[38;5;241m=\u001b[39m  \u001b[43mtxt_model\u001b[49m\u001b[38;5;241m.\u001b[39mpredict(tfidf_vectorizer\u001b[38;5;241m.\u001b[39mtransform(x_train\u001b[38;5;241m.\u001b[39mfullname \u001b[38;5;241m+\u001b[39m \u001b[38;5;124m'\u001b[39m\u001b[38;5;124m \u001b[39m\u001b[38;5;124m'\u001b[39m \u001b[38;5;241m+\u001b[39m x_train\u001b[38;5;241m.\u001b[39musername \u001b[38;5;241m+\u001b[39m \u001b[38;5;124m'\u001b[39m\u001b[38;5;124m \u001b[39m\u001b[38;5;124m'\u001b[39m \u001b[38;5;241m+\u001b[39m x_train\u001b[38;5;241m.\u001b[39mbiography))\n\u001b[0;32m      3\u001b[0m gender_by_txt_features_val \u001b[38;5;241m=\u001b[39m  txt_model\u001b[38;5;241m.\u001b[39mpredict(tfidf_vectorizer\u001b[38;5;241m.\u001b[39mtransform(x_val\u001b[38;5;241m.\u001b[39mfullname \u001b[38;5;241m+\u001b[39m \u001b[38;5;124m'\u001b[39m\u001b[38;5;124m \u001b[39m\u001b[38;5;124m'\u001b[39m \u001b[38;5;241m+\u001b[39m x_val\u001b[38;5;241m.\u001b[39musername \u001b[38;5;241m+\u001b[39m \u001b[38;5;124m'\u001b[39m\u001b[38;5;124m \u001b[39m\u001b[38;5;124m'\u001b[39m \u001b[38;5;241m+\u001b[39m x_val\u001b[38;5;241m.\u001b[39mbiography))\n\u001b[0;32m      5\u001b[0m \u001b[38;5;66;03m# Save the predicted gender in new columns\u001b[39;00m\n",
      "\u001b[1;31mNameError\u001b[0m: name 'txt_model' is not defined"
     ]
    }
   ],
   "source": [
    "# Save result of Prediction of Gender based on Textual Features using TF-IDF Vectorization in a new columns\n",
    "gender_by_txt_features_train =  txt_model.predict(tfidf_vectorizer.transform(x_train.fullname + ' ' + x_train.username + ' ' + x_train.biography))\n",
    "gender_by_txt_features_val =  txt_model.predict(tfidf_vectorizer.transform(x_val.fullname + ' ' + x_val.username + ' ' + x_val.biography))\n",
    "\n",
    "# Save the predicted gender in new columns\n",
    "x_train['gender_by_txt'] = gender_by_txt_features_train\n",
    "x_val['gender_by_txt'] = gender_by_txt_features_val\n",
    "\n",
    "# Removal of Textual Features from Training and Validation Data\n",
    "x_train= x_train.drop(columns=columns_to_extract, axis=1)\n",
    "x_val= x_val.drop(columns=columns_to_extract, axis=1)"
   ]
  },
  {
   "cell_type": "markdown",
   "metadata": {},
   "source": [
    "# Model 1: DecisionTreeClassifier"
   ]
  },
  {
   "cell_type": "code",
   "execution_count": null,
   "metadata": {},
   "outputs": [],
   "source": [
    "# Create an instance of the DecisionTreeClassifier\n",
    "DT_model = DecisionTreeClassifier()\n",
    "\n",
    "# Define the hyperparameter grid\n",
    "hyperparameters = {\n",
    "    'max_depth': [3, 5, 7, None],\n",
    "    'min_samples_split': [2, 4, 6, 8],\n",
    "    'min_samples_leaf': [1, 2, 3, 4],\n",
    "    'criterion': ['gini', 'entropy']\n",
    "}\n",
    "\n",
    "# Perform grid search to find the best hyperparameters\n",
    "grid_search = GridSearchCV(DT_model, hyperparameters, cv=5)\n",
    "grid_search.fit(x_train, y_train)\n",
    "\n",
    "# Get the best model and its hyperparameters\n",
    "best_et_classifier = grid_search.best_estimator_\n",
    "best_hyperparameters = grid_search.best_params_\n",
    "\n",
    "# Train the best model on your data\n",
    "best_et_classifier.fit(x_train, y_train)\n",
    "\n",
    "# Make predictions on new data\n",
    "predictions = best_et_classifier.predict(x_val)\n",
    "\n",
    "# Evaluate the model\n",
    "print(classification_report(y_val, predictions))\n",
    "f1 = f1_score(y_val, predictions)\n",
    "print(\"F1-score:\", f1)"
   ]
  },
  {
   "cell_type": "markdown",
   "metadata": {},
   "source": [
    "# Model 2: ExtraTreesClassifier"
   ]
  },
  {
   "cell_type": "code",
   "execution_count": null,
   "metadata": {},
   "outputs": [],
   "source": [
    "# Create an instance of the ExtraTreesClassifier\n",
    "et_classifier = ExtraTreesClassifier()\n",
    "\n",
    "# Define the hyperparameter grid\n",
    "hyperparameters = {\n",
    "    'n_estimators': [100, 200, 300],\n",
    "    'max_depth': [5, 10, None],\n",
    "    'min_samples_split': [2, 4, 6],\n",
    "    'min_samples_leaf': [1, 2, 3],\n",
    "    'criterion': ['gini', 'entropy']\n",
    "}\n",
    "\n",
    "# Perform grid search to find the best hyperparameters\n",
    "grid_search = GridSearchCV(et_classifier, hyperparameters, cv=5)\n",
    "grid_search.fit(x_train, y_train)\n",
    "\n",
    "# Get the best model and its hyperparameters\n",
    "best_et_classifier = grid_search.best_estimator_\n",
    "best_hyperparameters = grid_search.best_params_\n",
    "\n",
    "# Train the best model on your data\n",
    "best_et_classifier.fit(x_train, y_train)\n",
    "\n",
    "# Make predictions on new data\n",
    "predictions = best_et_classifier.predict(x_val)\n",
    "\n",
    "# Evaluate the model\n",
    "print(classification_report(y_val, predictions))\n",
    "f1 = f1_score(y_val, predictions)\n",
    "print(\"F1-score:\", f1)"
   ]
  },
  {
   "cell_type": "markdown",
   "metadata": {},
   "source": [
    "# Model 3: RandomForestClassifier"
   ]
  },
  {
   "cell_type": "code",
   "execution_count": null,
   "metadata": {},
   "outputs": [],
   "source": [
    "# Create an instance of the RandomForestClassifier\n",
    "RF_model = RandomForestClassifier()\n",
    "\n",
    "# Define the hyperparameter grid\n",
    "hyperparameters = {\n",
    "    'n_estimators': [50, 100, 150, 200, 300],\n",
    "    'max_depth': [2,3,4,5,6,10],\n",
    "    'min_samples_split': [2, 4, 6],\n",
    "    'min_samples_leaf': [1, 2, 3],\n",
    "    'criterion': ['gini', 'entropy']\n",
    "}\n",
    "\n",
    "# Perform grid search to find the best hyperparameters\n",
    "grid_search = GridSearchCV(RF_model, hyperparameters, cv=5)\n",
    "grid_search.fit(x_train, y_train)\n",
    "\n",
    "\n",
    "# Get the best model and its hyperparameters\n",
    "best_et_classifier = grid_search.best_estimator_\n",
    "best_hyperparameters = grid_search.best_params_\n",
    "\n",
    "# Train the best model on your data\n",
    "best_et_classifier.fit(x_train, y_train)\n",
    "\n",
    "# Make predictions on new data\n",
    "predictions = best_et_classifier.predict(x_val)\n",
    "\n",
    "# Evaluate the model\n",
    "print(classification_report(y_val, predictions))\n",
    "f1 = f1_score(y_val, predictions)\n",
    "print(\"F1-score:\", f1)"
   ]
  },
  {
   "cell_type": "markdown",
   "metadata": {},
   "source": [
    "# Model 4: XGBClassifier"
   ]
  },
  {
   "cell_type": "code",
   "execution_count": null,
   "metadata": {},
   "outputs": [],
   "source": [
    "# Create an instance of the XGBClassifier\n",
    "XGB_model = XGBClassifier()\n",
    "\n",
    "# Define the hyperparameter grid\n",
    "hyperparameters = {\n",
    "    'n_estimators': [50, 100, 150],\n",
    "    'learning_rate': [0.01, 0.1, 0.5],\n",
    "    'max_depth': [2, 3, 4, 5],\n",
    "    'subsample': [0.5, 0.8, 1.0],\n",
    "    'colsample_bytree': [0.1, 0.2, 0.3, 0.5],\n",
    "    'colsample_bylevel' : [0.1, 0.2, 0.3, 0.5],\n",
    "    'min_child_weight': [1, 3, 5,7],\n",
    "}\n",
    "\n",
    "# Perform grid search to find the best hyperparameters\n",
    "grid_search = GridSearchCV(XGB_model, hyperparameters, cv=5)\n",
    "grid_search.fit(x_train, y_train)\n",
    "\n",
    "\n",
    "# Get the best model and its hyperparameters\n",
    "best_et_classifier = grid_search.best_estimator_\n",
    "best_hyperparameters = grid_search.best_params_\n",
    "\n",
    "# Train the best model on your data\n",
    "best_et_classifier.fit(x_train, y_train)\n",
    "\n",
    "# Make predictions on new data\n",
    "predictions = best_et_classifier.predict(x_val)\n",
    "\n",
    "# Evaluate the model\n",
    "print(classification_report(y_val, predictions))\n",
    "f1 = f1_score(y_val, predictions)\n",
    "print(\"F1-score:\", f1)"
   ]
  },
  {
   "cell_type": "markdown",
   "metadata": {},
   "source": [
    "<a id=\"7\"></a>\n",
    "# <p style=\"background-image: url(https://i.postimg.cc/K87ByXmr/stage5.jpg);font-family:camtasia;font-size:120%;color:white;text-align:center;border-radius:15px 50px; padding:7px\">Thank you for taking the time to review my notebook. If you have any questions or criticisms, please kindly let me know in the comments section.  </p>"
   ]
  },
  {
   "cell_type": "code",
   "execution_count": null,
   "metadata": {},
   "outputs": [],
   "source": []
  }
 ],
 "metadata": {
  "kernelspec": {
   "display_name": "Python 3 (ipykernel)",
   "language": "python",
   "name": "python3"
  },
  "language_info": {
   "codemirror_mode": {
    "name": "ipython",
    "version": 3
   },
   "file_extension": ".py",
   "mimetype": "text/x-python",
   "name": "python",
   "nbconvert_exporter": "python",
   "pygments_lexer": "ipython3",
   "version": "3.9.0"
  }
 },
 "nbformat": 4,
 "nbformat_minor": 4
}
