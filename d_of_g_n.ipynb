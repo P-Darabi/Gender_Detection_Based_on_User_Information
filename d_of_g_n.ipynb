{
  "cells": [
    {
      "cell_type": "code",
      "source": [
        "from google.colab import drive\n",
        "\n",
        "# Mount Google Drive\n",
        "drive.mount('/content/drive')"
      ],
      "metadata": {
        "colab": {
          "base_uri": "https://localhost:8080/"
        },
        "id": "UOEyFYXPuPDz",
        "outputId": "550b43b1-6d50-46e9-bc8a-d892d1dc83e5"
      },
      "execution_count": 3,
      "outputs": [
        {
          "output_type": "stream",
          "name": "stdout",
          "text": [
            "Drive already mounted at /content/drive; to attempt to forcibly remount, call drive.mount(\"/content/drive\", force_remount=True).\n"
          ]
        }
      ]
    },
    {
      "cell_type": "markdown",
      "metadata": {
        "_cell_guid": "b1076dfc-b9ad-4769-8c92-a6c4dae69d19",
        "_uuid": "8f2839f25d086af736a60e9eeb907d3b93b6e0e5",
        "jp-MarkdownHeadingCollapsed": true,
        "id": "VTdx0fTOp4j1"
      },
      "source": [
        "# <p><center style=\"font-family:newtimeroman;font-size:180%;\"> Gender Detection Based on User Information </center></p>\n",
        "### Table of contents:\n",
        "\n",
        "* [Introduction](#1)\n",
        "* [Import Libraries](#2)\n",
        "* [Import Dataset](#3)\n",
        "* [Preprocessing & Feature Engineering](#4)\n",
        "* [Train Some Models](#5)\n",
        "* [Select The Best Model](#6)\n",
        "* [Evaluate The Model](#7)"
      ]
    },
    {
      "cell_type": "markdown",
      "metadata": {
        "execution": {
          "iopub.execute_input": "2023-08-14T19:17:39.967019Z",
          "iopub.status.busy": "2023-08-14T19:17:39.966306Z"
        },
        "id": "KX3HUQpZp4j6"
      },
      "source": [
        "<a id=\"1\"></a>\n",
        "# <p style=\"background-image: url(https://i.postimg.cc/K87ByXmr/stage5.jpg);font-family:camtasia;font-size:120%;color:white;text-align:center;border-radius:15px 50px; padding:7px\"> Introduction</p>"
      ]
    },
    {
      "cell_type": "markdown",
      "metadata": {
        "id": "07SQO99gp4j-"
      },
      "source": [
        "<html>\n",
        "<head>\n",
        "</head>\n",
        "<body>\n",
        "  <h1>Gender Detection Based on User Information</h1>\n",
        "  <p>Social networks have broad applications in today's world. Initially, they are used for entertainment and leisure. However, from another perspective, social networks can be utilized to identify behavioral patterns. For instance, by analyzing user opinions on social networks, we can identify weaknesses in our businesses.\n",
        "Gender is one of the influential parameters in user behavior. When faced with a topic, women tend to react differently compared to men.\n",
        "In this notebook, we intend to predict the gender of individuals based on the data provided by Twitter and Instagram users.</p>\n",
        "</body>\n",
        "</html>"
      ]
    },
    {
      "cell_type": "markdown",
      "metadata": {
        "id": "QIIMJgALp4kI"
      },
      "source": [
        "<html>\n",
        "<head>\n",
        "\n",
        "<style>\n",
        "body {\n",
        "  font-family: Arial, sans-serif;\n",
        "  font-size: 16px;\n",
        "  line-height: 1.6;\n",
        "}\n",
        "\n",
        "h1 {\n",
        "  text-align: center;\n",
        "  margin-bottom: 30px;\n",
        "}\n",
        "\n",
        "table {\n",
        "  margin: 0 auto;\n",
        "  border-collapse: collapse;\n",
        "  width: 100%;\n",
        "}\n",
        "\n",
        "th, td {\n",
        "  padding: 10px;\n",
        "  text-align: left;\n",
        "  border-bottom: 1px solid #ddd;\n",
        "}\n",
        "\n",
        "th {\n",
        "  background-color: #f2f2f2;\n",
        "}\n",
        "\n",
        ".description {\n",
        "  text-align: left;\n",
        "}\n",
        "</style>\n",
        "</head>\n",
        "<body>\n",
        "<h1>DataSet</h1>\n",
        "<p>The training dataset consists of 8000 rows and 10 columns. More information about the data is provided in the table below.</p>\n",
        "<table>\n",
        "<tr>\n",
        "<th>Column</th>\n",
        "<th>Description</th>\n",
        "</tr>\n",
        "<tr>\n",
        "<td class=\"description\">Gender (Target Column)</td>\n",
        "<td><code>Gender</code></td>\n",
        "</tr>\n",
        "<tr>\n",
        "<td class=\"description\">Age range of the user</td>\n",
        "<td><code>Age</code></td>\n",
        "</tr>\n",
        "<tr>\n",
        "<td class=\"description\">The name written in the social network profile</td>\n",
        "<td><code>FullName</code></td>\n",
        "</tr>\n",
        "<tr>\n",
        "<td class=\"description\">user name</td>\n",
        "<td><code>UserName</code></td>\n",
        "</tr>\n",
        "<tr>\n",
        "<td class=\"description\">Biography of the user's social network</td>\n",
        "<td><code>Biography</code></td>\n",
        "</tr>\n",
        "<tr>\n",
        "<td class=\"description\">The number of followers the user has</td>\n",
        "<td><code>Follower_Count</code></td>\n",
        "</tr>\n",
        "<tr>\n",
        "<td class=\"description\">The Number of people following the user</td>\n",
        "<td><code>Following_Count</code></td>\n",
        "</tr>\n",
        "<tr>\n",
        "<td class=\"description\">The business nature of the user account</td>\n",
        "<td><code>Is_Business</code></td>\n",
        "</tr>\n",
        "<tr>\n",
        "<td class=\"description\">The user account has been verified</td>\n",
        "<td><code>Is_Verified</code></td>\n",
        "</tr>\n",
        "<tr>\n",
        "<td class=\"description\">Account privacy</td>\n",
        "<td><code>Is_Private</code></td>\n",
        "</tr>\n",
        "</table>\n",
        "</body>\n",
        "</html>"
      ]
    },
    {
      "cell_type": "markdown",
      "metadata": {
        "id": "Udkc12i3p4kJ"
      },
      "source": [
        "<a id=\"2\"></a>\n",
        "# <p style=\"background-image: url(https://i.postimg.cc/K87ByXmr/stage5.jpg);font-family:camtasia;font-size:120%;color:white;text-align:center;border-radius:15px 50px; padding:7px\">Import Libraries </p>"
      ]
    },
    {
      "cell_type": "code",
      "source": [
        "!pip install emoji"
      ],
      "metadata": {
        "colab": {
          "base_uri": "https://localhost:8080/"
        },
        "id": "_ksqkC9zvg5n",
        "outputId": "d0311cab-3dea-42a6-8ecc-b34222d3250b"
      },
      "execution_count": 4,
      "outputs": [
        {
          "output_type": "stream",
          "name": "stdout",
          "text": [
            "Collecting emoji\n",
            "  Downloading emoji-2.8.0-py2.py3-none-any.whl (358 kB)\n",
            "\u001b[?25l     \u001b[90m━━━━━━━━━━━━━━━━━━━━━━━━━━━━━━━━━━━━━━━━\u001b[0m \u001b[32m0.0/358.9 kB\u001b[0m \u001b[31m?\u001b[0m eta \u001b[36m-:--:--\u001b[0m\r\u001b[2K     \u001b[91m━━━━━━━━━━━━\u001b[0m\u001b[90m╺\u001b[0m\u001b[90m━━━━━━━━━━━━━━━━━━━━━━━━━━\u001b[0m \u001b[32m112.6/358.9 kB\u001b[0m \u001b[31m3.2 MB/s\u001b[0m eta \u001b[36m0:00:01\u001b[0m\r\u001b[2K     \u001b[91m━━━━━━━━━━━━━━━━━━━━━━━━━━━━━━━━━━━━━━\u001b[0m\u001b[91m╸\u001b[0m \u001b[32m358.4/358.9 kB\u001b[0m \u001b[31m5.5 MB/s\u001b[0m eta \u001b[36m0:00:01\u001b[0m\r\u001b[2K     \u001b[90m━━━━━━━━━━━━━━━━━━━━━━━━━━━━━━━━━━━━━━━\u001b[0m \u001b[32m358.9/358.9 kB\u001b[0m \u001b[31m4.9 MB/s\u001b[0m eta \u001b[36m0:00:00\u001b[0m\n",
            "\u001b[?25hInstalling collected packages: emoji\n",
            "Successfully installed emoji-2.8.0\n"
          ]
        }
      ]
    },
    {
      "cell_type": "code",
      "execution_count": 39,
      "metadata": {
        "execution": {
          "iopub.execute_input": "2023-08-21T18:44:29.723498Z",
          "iopub.status.busy": "2023-08-21T18:44:29.723010Z",
          "iopub.status.idle": "2023-08-21T18:44:31.245312Z",
          "shell.execute_reply": "2023-08-21T18:44:31.244147Z",
          "shell.execute_reply.started": "2023-08-21T18:44:29.723458Z"
        },
        "id": "DowXXRcvp4kK"
      },
      "outputs": [],
      "source": [
        "# import the necessary libraries\n",
        "import numpy as np\n",
        "import pandas as pd\n",
        "import matplotlib.pyplot as plt\n",
        "import seaborn as sns\n",
        "sns.set_theme(style=\"darkgrid\")\n",
        "from emoji import emoji_count\n",
        "from sklearn.model_selection import train_test_split\n",
        "from sklearn.preprocessing import LabelEncoder\n",
        "import nltk\n",
        "import string\n",
        "from nltk.tokenize import word_tokenize\n",
        "import re\n",
        "from nltk.corpus import stopwords\n",
        "from nltk.stem import WordNetLemmatizer\n",
        "from sklearn.feature_extraction.text import TfidfVectorizer\n",
        "from sklearn.model_selection import GridSearchCV\n",
        "from sklearn.model_selection import cross_val_score\n",
        "from sklearn.model_selection import StratifiedKFold\n",
        "from sklearn.tree import DecisionTreeClassifier\n",
        "from sklearn.ensemble import ExtraTreesClassifier\n",
        "from sklearn.ensemble import RandomForestClassifier\n",
        "from xgboost import XGBClassifier\n",
        "from sklearn.metrics import classification_report , confusion_matrix, f1_score\n",
        "import warnings\n",
        "warnings.filterwarnings('ignore')"
      ]
    },
    {
      "cell_type": "markdown",
      "metadata": {
        "id": "TKGqky16p4kL"
      },
      "source": [
        "<a id=\"3\"></a>\n",
        "# <p style=\"background-image: url(https://i.postimg.cc/K87ByXmr/stage5.jpg);font-family:camtasia;font-size:120%;color:white;text-align:center;border-radius:15px 50px; padding:7px\">Import Dataset </p>\n",
        "<a class=\"btn\" href=\"#home\">Tabel of Contents</a>"
      ]
    },
    {
      "cell_type": "code",
      "execution_count": 6,
      "metadata": {
        "execution": {
          "iopub.execute_input": "2023-08-21T18:44:31.247560Z",
          "iopub.status.busy": "2023-08-21T18:44:31.247165Z",
          "iopub.status.idle": "2023-08-21T18:44:31.388434Z",
          "shell.execute_reply": "2023-08-21T18:44:31.387201Z",
          "shell.execute_reply.started": "2023-08-21T18:44:31.247519Z"
        },
        "colab": {
          "base_uri": "https://localhost:8080/",
          "height": 293
        },
        "id": "nhx7-3C9p4kL",
        "outputId": "4e7b4ea8-7646-432c-d129-0ff2918b17de"
      },
      "outputs": [
        {
          "output_type": "execute_result",
          "data": {
            "text/plain": [
              "  gender  age           fullname              username  \\\n",
              "0    man    2            Farshid         mr_gh_farshid   \n",
              "1  woman    2            zahr@72    zahra.roozbahani72   \n",
              "2  woman    2       ms farahnaz♥  ___lady.farahnazi.__   \n",
              "3  woman    1  Lena.mommy farzan        mommy.lena3361   \n",
              "4  woman    2  Narsis Asadollahi          _l.aurora.l_   \n",
              "\n",
              "                                           biography  follower_count  \\\n",
              "0  دردا ک در این بادیه بسیار دویدیم...\\nGlory man...          1604.0   \n",
              "1  خواهی که زکوچ در امان برگردی\\nباید که به جان ,...            67.0   \n",
              "2  Having you,  is all I wish for \\nداشتنت، تمامِ...             0.0   \n",
              "3                               دردونه من لنا کوچولو             0.0   \n",
              "4  I am an animation student\\n🎧🎼🎨⚓️🤍 \\n@general.m...           200.0   \n",
              "\n",
              "   following_count  is_business  is_verified  is_private  \n",
              "0           1407.0          0.0          0.0         0.0  \n",
              "1            501.0          0.0          0.0         0.0  \n",
              "2              0.0          0.0          0.0         0.0  \n",
              "3              0.0          0.0          0.0         0.0  \n",
              "4            328.0          0.0          0.0         0.0  "
            ],
            "text/html": [
              "\n",
              "  <div id=\"df-88ca31c6-5977-4f60-a869-cfbdd8ad9575\" class=\"colab-df-container\">\n",
              "    <div>\n",
              "<style scoped>\n",
              "    .dataframe tbody tr th:only-of-type {\n",
              "        vertical-align: middle;\n",
              "    }\n",
              "\n",
              "    .dataframe tbody tr th {\n",
              "        vertical-align: top;\n",
              "    }\n",
              "\n",
              "    .dataframe thead th {\n",
              "        text-align: right;\n",
              "    }\n",
              "</style>\n",
              "<table border=\"1\" class=\"dataframe\">\n",
              "  <thead>\n",
              "    <tr style=\"text-align: right;\">\n",
              "      <th></th>\n",
              "      <th>gender</th>\n",
              "      <th>age</th>\n",
              "      <th>fullname</th>\n",
              "      <th>username</th>\n",
              "      <th>biography</th>\n",
              "      <th>follower_count</th>\n",
              "      <th>following_count</th>\n",
              "      <th>is_business</th>\n",
              "      <th>is_verified</th>\n",
              "      <th>is_private</th>\n",
              "    </tr>\n",
              "  </thead>\n",
              "  <tbody>\n",
              "    <tr>\n",
              "      <th>0</th>\n",
              "      <td>man</td>\n",
              "      <td>2</td>\n",
              "      <td>Farshid</td>\n",
              "      <td>mr_gh_farshid</td>\n",
              "      <td>دردا ک در این بادیه بسیار دویدیم...\\nGlory man...</td>\n",
              "      <td>1604.0</td>\n",
              "      <td>1407.0</td>\n",
              "      <td>0.0</td>\n",
              "      <td>0.0</td>\n",
              "      <td>0.0</td>\n",
              "    </tr>\n",
              "    <tr>\n",
              "      <th>1</th>\n",
              "      <td>woman</td>\n",
              "      <td>2</td>\n",
              "      <td>zahr@72</td>\n",
              "      <td>zahra.roozbahani72</td>\n",
              "      <td>خواهی که زکوچ در امان برگردی\\nباید که به جان ,...</td>\n",
              "      <td>67.0</td>\n",
              "      <td>501.0</td>\n",
              "      <td>0.0</td>\n",
              "      <td>0.0</td>\n",
              "      <td>0.0</td>\n",
              "    </tr>\n",
              "    <tr>\n",
              "      <th>2</th>\n",
              "      <td>woman</td>\n",
              "      <td>2</td>\n",
              "      <td>ms farahnaz♥</td>\n",
              "      <td>___lady.farahnazi.__</td>\n",
              "      <td>Having you,  is all I wish for \\nداشتنت، تمامِ...</td>\n",
              "      <td>0.0</td>\n",
              "      <td>0.0</td>\n",
              "      <td>0.0</td>\n",
              "      <td>0.0</td>\n",
              "      <td>0.0</td>\n",
              "    </tr>\n",
              "    <tr>\n",
              "      <th>3</th>\n",
              "      <td>woman</td>\n",
              "      <td>1</td>\n",
              "      <td>Lena.mommy farzan</td>\n",
              "      <td>mommy.lena3361</td>\n",
              "      <td>دردونه من لنا کوچولو</td>\n",
              "      <td>0.0</td>\n",
              "      <td>0.0</td>\n",
              "      <td>0.0</td>\n",
              "      <td>0.0</td>\n",
              "      <td>0.0</td>\n",
              "    </tr>\n",
              "    <tr>\n",
              "      <th>4</th>\n",
              "      <td>woman</td>\n",
              "      <td>2</td>\n",
              "      <td>Narsis Asadollahi</td>\n",
              "      <td>_l.aurora.l_</td>\n",
              "      <td>I am an animation student\\n🎧🎼🎨⚓️🤍 \\n@general.m...</td>\n",
              "      <td>200.0</td>\n",
              "      <td>328.0</td>\n",
              "      <td>0.0</td>\n",
              "      <td>0.0</td>\n",
              "      <td>0.0</td>\n",
              "    </tr>\n",
              "  </tbody>\n",
              "</table>\n",
              "</div>\n",
              "    <div class=\"colab-df-buttons\">\n",
              "\n",
              "  <div class=\"colab-df-container\">\n",
              "    <button class=\"colab-df-convert\" onclick=\"convertToInteractive('df-88ca31c6-5977-4f60-a869-cfbdd8ad9575')\"\n",
              "            title=\"Convert this dataframe to an interactive table.\"\n",
              "            style=\"display:none;\">\n",
              "\n",
              "  <svg xmlns=\"http://www.w3.org/2000/svg\" height=\"24px\" viewBox=\"0 -960 960 960\">\n",
              "    <path d=\"M120-120v-720h720v720H120Zm60-500h600v-160H180v160Zm220 220h160v-160H400v160Zm0 220h160v-160H400v160ZM180-400h160v-160H180v160Zm440 0h160v-160H620v160ZM180-180h160v-160H180v160Zm440 0h160v-160H620v160Z\"/>\n",
              "  </svg>\n",
              "    </button>\n",
              "\n",
              "  <style>\n",
              "    .colab-df-container {\n",
              "      display:flex;\n",
              "      gap: 12px;\n",
              "    }\n",
              "\n",
              "    .colab-df-convert {\n",
              "      background-color: #E8F0FE;\n",
              "      border: none;\n",
              "      border-radius: 50%;\n",
              "      cursor: pointer;\n",
              "      display: none;\n",
              "      fill: #1967D2;\n",
              "      height: 32px;\n",
              "      padding: 0 0 0 0;\n",
              "      width: 32px;\n",
              "    }\n",
              "\n",
              "    .colab-df-convert:hover {\n",
              "      background-color: #E2EBFA;\n",
              "      box-shadow: 0px 1px 2px rgba(60, 64, 67, 0.3), 0px 1px 3px 1px rgba(60, 64, 67, 0.15);\n",
              "      fill: #174EA6;\n",
              "    }\n",
              "\n",
              "    .colab-df-buttons div {\n",
              "      margin-bottom: 4px;\n",
              "    }\n",
              "\n",
              "    [theme=dark] .colab-df-convert {\n",
              "      background-color: #3B4455;\n",
              "      fill: #D2E3FC;\n",
              "    }\n",
              "\n",
              "    [theme=dark] .colab-df-convert:hover {\n",
              "      background-color: #434B5C;\n",
              "      box-shadow: 0px 1px 3px 1px rgba(0, 0, 0, 0.15);\n",
              "      filter: drop-shadow(0px 1px 2px rgba(0, 0, 0, 0.3));\n",
              "      fill: #FFFFFF;\n",
              "    }\n",
              "  </style>\n",
              "\n",
              "    <script>\n",
              "      const buttonEl =\n",
              "        document.querySelector('#df-88ca31c6-5977-4f60-a869-cfbdd8ad9575 button.colab-df-convert');\n",
              "      buttonEl.style.display =\n",
              "        google.colab.kernel.accessAllowed ? 'block' : 'none';\n",
              "\n",
              "      async function convertToInteractive(key) {\n",
              "        const element = document.querySelector('#df-88ca31c6-5977-4f60-a869-cfbdd8ad9575');\n",
              "        const dataTable =\n",
              "          await google.colab.kernel.invokeFunction('convertToInteractive',\n",
              "                                                    [key], {});\n",
              "        if (!dataTable) return;\n",
              "\n",
              "        const docLinkHtml = 'Like what you see? Visit the ' +\n",
              "          '<a target=\"_blank\" href=https://colab.research.google.com/notebooks/data_table.ipynb>data table notebook</a>'\n",
              "          + ' to learn more about interactive tables.';\n",
              "        element.innerHTML = '';\n",
              "        dataTable['output_type'] = 'display_data';\n",
              "        await google.colab.output.renderOutput(dataTable, element);\n",
              "        const docLink = document.createElement('div');\n",
              "        docLink.innerHTML = docLinkHtml;\n",
              "        element.appendChild(docLink);\n",
              "      }\n",
              "    </script>\n",
              "  </div>\n",
              "\n",
              "\n",
              "<div id=\"df-7c357fb4-0f92-494d-ae44-da7522f51747\">\n",
              "  <button class=\"colab-df-quickchart\" onclick=\"quickchart('df-7c357fb4-0f92-494d-ae44-da7522f51747')\"\n",
              "            title=\"Suggest charts.\"\n",
              "            style=\"display:none;\">\n",
              "\n",
              "<svg xmlns=\"http://www.w3.org/2000/svg\" height=\"24px\"viewBox=\"0 0 24 24\"\n",
              "     width=\"24px\">\n",
              "    <g>\n",
              "        <path d=\"M19 3H5c-1.1 0-2 .9-2 2v14c0 1.1.9 2 2 2h14c1.1 0 2-.9 2-2V5c0-1.1-.9-2-2-2zM9 17H7v-7h2v7zm4 0h-2V7h2v10zm4 0h-2v-4h2v4z\"/>\n",
              "    </g>\n",
              "</svg>\n",
              "  </button>\n",
              "\n",
              "<style>\n",
              "  .colab-df-quickchart {\n",
              "      --bg-color: #E8F0FE;\n",
              "      --fill-color: #1967D2;\n",
              "      --hover-bg-color: #E2EBFA;\n",
              "      --hover-fill-color: #174EA6;\n",
              "      --disabled-fill-color: #AAA;\n",
              "      --disabled-bg-color: #DDD;\n",
              "  }\n",
              "\n",
              "  [theme=dark] .colab-df-quickchart {\n",
              "      --bg-color: #3B4455;\n",
              "      --fill-color: #D2E3FC;\n",
              "      --hover-bg-color: #434B5C;\n",
              "      --hover-fill-color: #FFFFFF;\n",
              "      --disabled-bg-color: #3B4455;\n",
              "      --disabled-fill-color: #666;\n",
              "  }\n",
              "\n",
              "  .colab-df-quickchart {\n",
              "    background-color: var(--bg-color);\n",
              "    border: none;\n",
              "    border-radius: 50%;\n",
              "    cursor: pointer;\n",
              "    display: none;\n",
              "    fill: var(--fill-color);\n",
              "    height: 32px;\n",
              "    padding: 0;\n",
              "    width: 32px;\n",
              "  }\n",
              "\n",
              "  .colab-df-quickchart:hover {\n",
              "    background-color: var(--hover-bg-color);\n",
              "    box-shadow: 0 1px 2px rgba(60, 64, 67, 0.3), 0 1px 3px 1px rgba(60, 64, 67, 0.15);\n",
              "    fill: var(--button-hover-fill-color);\n",
              "  }\n",
              "\n",
              "  .colab-df-quickchart-complete:disabled,\n",
              "  .colab-df-quickchart-complete:disabled:hover {\n",
              "    background-color: var(--disabled-bg-color);\n",
              "    fill: var(--disabled-fill-color);\n",
              "    box-shadow: none;\n",
              "  }\n",
              "\n",
              "  .colab-df-spinner {\n",
              "    border: 2px solid var(--fill-color);\n",
              "    border-color: transparent;\n",
              "    border-bottom-color: var(--fill-color);\n",
              "    animation:\n",
              "      spin 1s steps(1) infinite;\n",
              "  }\n",
              "\n",
              "  @keyframes spin {\n",
              "    0% {\n",
              "      border-color: transparent;\n",
              "      border-bottom-color: var(--fill-color);\n",
              "      border-left-color: var(--fill-color);\n",
              "    }\n",
              "    20% {\n",
              "      border-color: transparent;\n",
              "      border-left-color: var(--fill-color);\n",
              "      border-top-color: var(--fill-color);\n",
              "    }\n",
              "    30% {\n",
              "      border-color: transparent;\n",
              "      border-left-color: var(--fill-color);\n",
              "      border-top-color: var(--fill-color);\n",
              "      border-right-color: var(--fill-color);\n",
              "    }\n",
              "    40% {\n",
              "      border-color: transparent;\n",
              "      border-right-color: var(--fill-color);\n",
              "      border-top-color: var(--fill-color);\n",
              "    }\n",
              "    60% {\n",
              "      border-color: transparent;\n",
              "      border-right-color: var(--fill-color);\n",
              "    }\n",
              "    80% {\n",
              "      border-color: transparent;\n",
              "      border-right-color: var(--fill-color);\n",
              "      border-bottom-color: var(--fill-color);\n",
              "    }\n",
              "    90% {\n",
              "      border-color: transparent;\n",
              "      border-bottom-color: var(--fill-color);\n",
              "    }\n",
              "  }\n",
              "</style>\n",
              "\n",
              "  <script>\n",
              "    async function quickchart(key) {\n",
              "      const quickchartButtonEl =\n",
              "        document.querySelector('#' + key + ' button');\n",
              "      quickchartButtonEl.disabled = true;  // To prevent multiple clicks.\n",
              "      quickchartButtonEl.classList.add('colab-df-spinner');\n",
              "      try {\n",
              "        const charts = await google.colab.kernel.invokeFunction(\n",
              "            'suggestCharts', [key], {});\n",
              "      } catch (error) {\n",
              "        console.error('Error during call to suggestCharts:', error);\n",
              "      }\n",
              "      quickchartButtonEl.classList.remove('colab-df-spinner');\n",
              "      quickchartButtonEl.classList.add('colab-df-quickchart-complete');\n",
              "    }\n",
              "    (() => {\n",
              "      let quickchartButtonEl =\n",
              "        document.querySelector('#df-7c357fb4-0f92-494d-ae44-da7522f51747 button');\n",
              "      quickchartButtonEl.style.display =\n",
              "        google.colab.kernel.accessAllowed ? 'block' : 'none';\n",
              "    })();\n",
              "  </script>\n",
              "</div>\n",
              "    </div>\n",
              "  </div>\n"
            ]
          },
          "metadata": {},
          "execution_count": 6
        }
      ],
      "source": [
        "# Import DataSet\n",
        "train = pd.read_csv('/content/drive/My Drive/train_data.csv')\n",
        "train.head()"
      ]
    },
    {
      "cell_type": "code",
      "execution_count": 7,
      "metadata": {
        "colab": {
          "base_uri": "https://localhost:8080/"
        },
        "id": "y3OmLm07p4kM",
        "outputId": "8f7f50ce-c3c2-4031-ba0c-e61857609437"
      },
      "outputs": [
        {
          "output_type": "stream",
          "name": "stdout",
          "text": [
            "<class 'pandas.core.frame.DataFrame'>\n",
            "RangeIndex: 8000 entries, 0 to 7999\n",
            "Data columns (total 10 columns):\n",
            " #   Column           Non-Null Count  Dtype  \n",
            "---  ------           --------------  -----  \n",
            " 0   gender           8000 non-null   object \n",
            " 1   age              8000 non-null   int64  \n",
            " 2   fullname         8000 non-null   object \n",
            " 3   username         8000 non-null   object \n",
            " 4   biography        8000 non-null   object \n",
            " 5   follower_count   8000 non-null   float64\n",
            " 6   following_count  8000 non-null   float64\n",
            " 7   is_business      7997 non-null   float64\n",
            " 8   is_verified      8000 non-null   float64\n",
            " 9   is_private       8000 non-null   float64\n",
            "dtypes: float64(5), int64(1), object(4)\n",
            "memory usage: 625.1+ KB\n"
          ]
        }
      ],
      "source": [
        "# Get more Information about DataSet\n",
        "train.info()"
      ]
    },
    {
      "cell_type": "markdown",
      "metadata": {
        "id": "YBjrv1MWp4kO"
      },
      "source": [
        "<a id=\"4\"></a>\n",
        "# <p style=\"background-image: url(https://i.postimg.cc/K87ByXmr/stage5.jpg);font-family:camtasia;font-size:120%;color:white;text-align:center;border-radius:15px 50px; padding:7px\">Preprocessing & Feature Engineering </p>\n",
        "<a class=\"btn\" href=\"#home\">Tabel of Contents</a>"
      ]
    },
    {
      "cell_type": "code",
      "execution_count": 8,
      "metadata": {
        "execution": {
          "iopub.execute_input": "2023-08-21T18:44:31.454597Z",
          "iopub.status.busy": "2023-08-21T18:44:31.454046Z",
          "iopub.status.idle": "2023-08-21T18:44:32.992217Z",
          "shell.execute_reply": "2023-08-21T18:44:32.991387Z",
          "shell.execute_reply.started": "2023-08-21T18:44:31.454561Z"
        },
        "colab": {
          "base_uri": "https://localhost:8080/",
          "height": 480
        },
        "id": "NbWrjNZJp4kO",
        "outputId": "84361945-a648-4bb6-e7c4-637827cac235"
      },
      "outputs": [
        {
          "output_type": "display_data",
          "data": {
            "text/plain": [
              "<Figure size 640x480 with 1 Axes>"
            ],
            "image/png": "[encoded data removed]"
          },
          "metadata": {}
        }
      ],
      "source": [
        "# Gender Distribution in Training Data: Countplot\n",
        "gender_counts = train['gender'].value_counts()\n",
        "sns.barplot(x=gender_counts.index, y=gender_counts.values)\n",
        "plt.xlabel('Gender')\n",
        "plt.ylabel('Count')\n",
        "plt.title('Gender Distribution in Training Data')\n",
        "plt.show()"
      ]
    },
    {
      "cell_type": "code",
      "execution_count": 9,
      "metadata": {
        "execution": {
          "iopub.execute_input": "2023-08-21T18:44:31.392292Z",
          "iopub.status.busy": "2023-08-21T18:44:31.391872Z",
          "iopub.status.idle": "2023-08-21T18:44:31.418693Z",
          "shell.execute_reply": "2023-08-21T18:44:31.417665Z",
          "shell.execute_reply.started": "2023-08-21T18:44:31.392254Z"
        },
        "id": "h__SBZW7p4kQ"
      },
      "outputs": [],
      "source": [
        "# Delete duplicated rows in dataset\n",
        "def duplicated_rows(df):\n",
        "    df=df.drop_duplicates(keep='first')\n",
        "    return df\n",
        "\n",
        "train= duplicated_rows(train)"
      ]
    },
    {
      "cell_type": "code",
      "execution_count": 10,
      "metadata": {
        "execution": {
          "iopub.execute_input": "2023-08-21T18:44:31.420777Z",
          "iopub.status.busy": "2023-08-21T18:44:31.420182Z",
          "iopub.status.idle": "2023-08-21T18:44:31.452451Z",
          "shell.execute_reply": "2023-08-21T18:44:31.451327Z",
          "shell.execute_reply.started": "2023-08-21T18:44:31.420738Z"
        },
        "id": "C_r5ZeLrp4kQ"
      },
      "outputs": [],
      "source": [
        "# Removing NaN Values from 'is_business' Column in Training Data\n",
        "train = train.dropna(subset=['is_business'], axis=0)"
      ]
    },
    {
      "cell_type": "code",
      "execution_count": 11,
      "metadata": {
        "id": "HYc-5pxep4kQ"
      },
      "outputs": [],
      "source": [
        "# Calculating Emoji Count in 'biography' Column of Training Data\n",
        "train['emoji_count'] = train.biography.apply(emoji_count)"
      ]
    },
    {
      "cell_type": "code",
      "execution_count": 12,
      "metadata": {
        "colab": {
          "base_uri": "https://localhost:8080/",
          "height": 480
        },
        "id": "NYEWCNZUp4kR",
        "outputId": "cd429878-dc23-4df9-a4e7-6185ff2c9830"
      },
      "outputs": [
        {
          "output_type": "display_data",
          "data": {
            "text/plain": [
              "<Figure size 640x480 with 1 Axes>"
            ],
            "image/png": "[encoded data removed]"
          },
          "metadata": {}
        }
      ],
      "source": [
        "# Kernel Density Estimation of Emoji Count by Gender in Training Data\n",
        "# Filter data by gender category\n",
        "male_data = train[train['gender'] == 'man']\n",
        "female_data = train[train['gender'] == 'woman']\n",
        "\n",
        "# Create KDE plots for each gender category\n",
        "sns.kdeplot(data=male_data['emoji_count'], label='Male')\n",
        "sns.kdeplot(data=female_data['emoji_count'], label='Female')\n",
        "\n",
        "plt.xlabel('Emoji Count')\n",
        "plt.ylabel('Density')\n",
        "plt.title('Distribution of Emoji Count by Gender')\n",
        "plt.legend()\n",
        "plt.show()"
      ]
    },
    {
      "cell_type": "code",
      "execution_count": 13,
      "metadata": {
        "id": "jbCPM4Ggp4kR"
      },
      "outputs": [],
      "source": [
        "# Calculating Biography Length in Terms of Word Count in Training Data\n",
        "train['bio_lenght']= train.biography.apply(lambda s : len(s.split()))"
      ]
    },
    {
      "cell_type": "code",
      "execution_count": 14,
      "metadata": {
        "colab": {
          "base_uri": "https://localhost:8080/",
          "height": 480
        },
        "id": "q2HAglKqp4kS",
        "outputId": "73311d42-77f9-42e1-810a-ceb4607c0fad"
      },
      "outputs": [
        {
          "output_type": "display_data",
          "data": {
            "text/plain": [
              "<Figure size 640x480 with 1 Axes>"
            ],
            "image/png": "[encoded data removed]"
          },
          "metadata": {}
        }
      ],
      "source": [
        "# Kernel Density Estimation of Biography Length by Gender in Training Data\n",
        "# Filter data by gender category\n",
        "male_data = train[train['gender'] == 'man']\n",
        "female_data = train[train['gender'] == 'woman']\n",
        "\n",
        "# Create KDE plots for each gender category\n",
        "sns.kdeplot(data=male_data['bio_lenght'], color='blue', label='Male')\n",
        "sns.kdeplot(data=female_data['bio_lenght'], color='pink', label='Female')\n",
        "\n",
        "plt.xlabel('bio_lenght')\n",
        "plt.ylabel('Density')\n",
        "plt.title('Distribution of Bio Length by Gender')\n",
        "plt.legend()\n",
        "plt.show()"
      ]
    },
    {
      "cell_type": "code",
      "execution_count": 15,
      "metadata": {
        "execution": {
          "iopub.execute_input": "2023-08-21T18:44:32.993561Z",
          "iopub.status.busy": "2023-08-21T18:44:32.993244Z",
          "iopub.status.idle": "2023-08-21T18:44:33.016425Z",
          "shell.execute_reply": "2023-08-21T18:44:33.015280Z",
          "shell.execute_reply.started": "2023-08-21T18:44:32.993525Z"
        },
        "scrolled": true,
        "colab": {
          "base_uri": "https://localhost:8080/"
        },
        "id": "A842ew97p4kS",
        "outputId": "7756beb4-2fa8-42c2-f5ce-7f747446d766"
      },
      "outputs": [
        {
          "output_type": "stream",
          "name": "stdout",
          "text": [
            "man      3999\n",
            "woman    3998\n",
            "Name: gender, dtype: int64\n",
            "++++++++++++++++++++++++++++++++++\n",
            "2    3427\n",
            "3    3370\n",
            "4    1036\n",
            "1     164\n",
            "Name: age, dtype: int64\n",
            "++++++++++++++++++++++++++++++++++\n",
            "0.0    7171\n",
            "1.0     826\n",
            "Name: is_business, dtype: int64\n",
            "++++++++++++++++++++++++++++++++++\n",
            "0.0    7996\n",
            "1.0       1\n",
            "Name: is_verified, dtype: int64\n",
            "++++++++++++++++++++++++++++++++++\n",
            "0.0    7997\n",
            "Name: is_private, dtype: int64\n",
            "++++++++++++++++++++++++++++++++++\n"
          ]
        }
      ],
      "source": [
        "# Value Counts for categorical Columns\n",
        "def show_count_values(*args):\n",
        "    for col in args:\n",
        "        print(train[col].value_counts())\n",
        "        print(\"++++++++++++++++++++++++++++++++++\")\n",
        "\n",
        "show_count_values('gender','age','is_business','is_verified','is_private')"
      ]
    },
    {
      "cell_type": "markdown",
      "metadata": {
        "id": "g_kvj7omp4kT"
      },
      "source": [
        "<!DOCTYPE html>\n",
        "<html>\n",
        "<head>\n",
        "</head>\n",
        "<body>\n",
        "  <h1>Removing Redundant Columns: Streamlining Data and Enhancing Analysis Efficiency</h1>\n",
        "  <p>\n",
        "When all values in a column are the same, it is considered a \"duplicate\" or \"fixed\" situation. In such cases, it is advisable to remove the column as it has no impact on modeling and provides no valuable information. Removing redundant columns streamlines the dataset, improves efficiency, and allows for clearer analysis of remaining features.\n",
        "  </p>\n",
        "</body>\n",
        "</html>"
      ]
    },
    {
      "cell_type": "code",
      "execution_count": 16,
      "metadata": {
        "colab": {
          "base_uri": "https://localhost:8080/",
          "height": 963
        },
        "id": "Oe2xuQ7bp4kT",
        "outputId": "8c94a725-ca9d-4834-da6d-251c3f0305fa"
      },
      "outputs": [
        {
          "output_type": "display_data",
          "data": {
            "text/plain": [
              "<Figure size 640x480 with 1 Axes>"
            ],
            "image/png": "[encoded data removed]"
          },
          "metadata": {}
        },
        {
          "output_type": "display_data",
          "data": {
            "text/plain": [
              "<Figure size 640x480 with 1 Axes>"
            ],
            "image/png": "[encoded data removed]"
          },
          "metadata": {}
        }
      ],
      "source": [
        "# Value Counts for categorical Columns\n",
        "def show_count_values(*args):\n",
        "    for col in args:\n",
        "        value_counts = train[col].value_counts()\n",
        "        value_counts.plot(kind='bar')\n",
        "        plt.title(f'{col} Value Counts')\n",
        "        plt.xlabel(col)\n",
        "        plt.ylabel('Count')\n",
        "        plt.show()\n",
        "\n",
        "# Call the show_count_values function to display figures for the specified columns\n",
        "show_count_values('is_verified', 'is_private')"
      ]
    },
    {
      "cell_type": "code",
      "execution_count": 17,
      "metadata": {
        "execution": {
          "iopub.execute_input": "2023-08-21T18:44:33.018604Z",
          "iopub.status.busy": "2023-08-21T18:44:33.018254Z",
          "iopub.status.idle": "2023-08-21T18:44:33.031268Z",
          "shell.execute_reply": "2023-08-21T18:44:33.030257Z",
          "shell.execute_reply.started": "2023-08-21T18:44:33.018572Z"
        },
        "id": "ZZ5EPkt_p4kU"
      },
      "outputs": [],
      "source": [
        "# Function to Remove Constant Columns from a DataFrame\n",
        "def remove_constant_col(df, *args):\n",
        "    for col in args:\n",
        "        df = df.drop(col, axis=1)\n",
        "    return df\n",
        "\n",
        "train = remove_constant_col(train, 'is_verified','is_private')\n"
      ]
    },
    {
      "cell_type": "code",
      "execution_count": 18,
      "metadata": {
        "execution": {
          "iopub.execute_input": "2023-08-21T18:44:33.033244Z",
          "iopub.status.busy": "2023-08-21T18:44:33.032822Z",
          "iopub.status.idle": "2023-08-21T18:44:33.045282Z",
          "shell.execute_reply": "2023-08-21T18:44:33.044265Z",
          "shell.execute_reply.started": "2023-08-21T18:44:33.033210Z"
        },
        "id": "wpEJ0Ew7p4kU"
      },
      "outputs": [],
      "source": [
        "# Split Dataset to train and validation\n",
        "y=train.gender\n",
        "x=train.drop(columns='gender')\n",
        "\n",
        "x_train ,x_val, y_train, y_val = train_test_split(x, y, test_size=0.2, shuffle=True, random_state=24)"
      ]
    },
    {
      "cell_type": "code",
      "execution_count": 19,
      "metadata": {
        "execution": {
          "iopub.execute_input": "2023-08-21T18:44:33.049101Z",
          "iopub.status.busy": "2023-08-21T18:44:33.048820Z",
          "iopub.status.idle": "2023-08-21T18:44:33.057452Z",
          "shell.execute_reply": "2023-08-21T18:44:33.056479Z",
          "shell.execute_reply.started": "2023-08-21T18:44:33.049077Z"
        },
        "id": "8GIszJlpp4kV"
      },
      "outputs": [],
      "source": [
        "# Encoding Categorical Target Variables using LabelEncoder\n",
        "def encode_col(y_train):\n",
        "    encoder = LabelEncoder()\n",
        "    y_train_encoded = encoder.fit_transform(y_train)\n",
        "    return y_train_encoded\n",
        "\n",
        "y_train = encode_col(y_train)\n",
        "y_val = encode_col(y_val)"
      ]
    },
    {
      "cell_type": "code",
      "execution_count": 20,
      "metadata": {
        "execution": {
          "iopub.execute_input": "2023-08-21T18:44:33.073534Z",
          "iopub.status.busy": "2023-08-21T18:44:33.072792Z",
          "iopub.status.idle": "2023-08-21T18:44:33.081073Z",
          "shell.execute_reply": "2023-08-21T18:44:33.080046Z",
          "shell.execute_reply.started": "2023-08-21T18:44:33.073497Z"
        },
        "id": "diSzpx-Pp4kV"
      },
      "outputs": [],
      "source": [
        "# Text Preprocessing Functions for Natural Language Processing (NLP)\n",
        "\n",
        "def preprocess_text(text):\n",
        "    text = text_lowercase(text)\n",
        "    text = remove_numbers(text)\n",
        "    text = remove_punctuation(text)\n",
        "    text = remove_whitespace(text)\n",
        "    text = remove_stopwords(text)\n",
        "    text = lemmatize_word(text)\n",
        "    return text\n",
        "\n",
        "def text_lowercase(text):\n",
        "    return text.lower()\n",
        "\n",
        "def remove_numbers(text):\n",
        "    result = re.sub(r'\\d+', '', text)\n",
        "    return result\n",
        "\n",
        "def remove_punctuation(text):\n",
        "    translator = str.maketrans('', '', string.punctuation)\n",
        "    return text.translate(translator)\n",
        "\n",
        "def remove_whitespace(text):\n",
        "    return \" \".join(text.split())\n",
        "\n",
        "def remove_stopwords(text):\n",
        "    stop_words = set(stopwords.words(\"english\"))\n",
        "    word_tokens = word_tokenize(text)\n",
        "    filtered_text = [word for word in word_tokens if word not in stop_words]\n",
        "    return \" \".join(filtered_text)\n",
        "\n",
        "def lemmatize_word(text):\n",
        "    lemmatizer = WordNetLemmatizer()\n",
        "    word_tokens = word_tokenize(text)\n",
        "    lemmas = [lemmatizer.lemmatize(word, pos='v') for word in word_tokens]\n",
        "    return \" \".join(lemmas)\n",
        "\n"
      ]
    },
    {
      "cell_type": "code",
      "execution_count": 21,
      "metadata": {
        "execution": {
          "iopub.execute_input": "2023-08-21T18:44:33.059469Z",
          "iopub.status.busy": "2023-08-21T18:44:33.059022Z",
          "iopub.status.idle": "2023-08-21T18:44:33.070693Z",
          "shell.execute_reply": "2023-08-21T18:44:33.069744Z",
          "shell.execute_reply.started": "2023-08-21T18:44:33.059438Z"
        },
        "id": "RnsXa1Oep4kV"
      },
      "outputs": [],
      "source": [
        "# Converting Specific Columns to Integer Data Type in a DataFrame\n",
        "def convert_to_int(df, *args):\n",
        "    for col in args:\n",
        "        df[col] = df[col].astype(int)\n",
        "    return df\n",
        "\n",
        "# Convert the columns to integers in x_train\n",
        "x_train = convert_to_int(x_train, 'follower_count', 'following_count', 'is_business')\n",
        "\n",
        "# Convert the columns to integers in x_val\n",
        "x_val = convert_to_int(x_val, 'follower_count', 'following_count', 'is_business')"
      ]
    },
    {
      "cell_type": "markdown",
      "metadata": {
        "id": "1zEVlC9Op4kW"
      },
      "source": [
        "<!DOCTYPE html>\n",
        "<html>\n",
        "<head>\n",
        "</head>\n",
        "<body>\n",
        "  <h1>Textual Data Extraction and Vectorization for Machine Learning Training</h1>\n",
        "  <p>\n",
        "In this step, we extract textual data from other features and use vectorization to convert it into a numerical format suitable for training machine learning models.\n",
        "  </p>\n",
        "    <h1>TF-IDF (Term Frequency-Inverse Document Frequency) vectorization</h1>\n",
        "  <p>\n",
        "TF-IDF (Term Frequency-Inverse Document Frequency) vectorization is a popular technique used in natural language processing (NLP) to convert textual data into numerical representations. It assigns weights to words based on their frequency in a document and their rarity across all documents in a corpus. The TF-IDF score reflects the importance of a word in a specific document relative to its occurrence in other documents. This vectorization method helps capture the significance of words in a document and is commonly used for tasks such as text classification, information retrieval, and clustering in machine learning.\n",
        "  </p>\n",
        "</body>\n",
        "</html>\n"
      ]
    },
    {
      "cell_type": "code",
      "source": [
        "nltk.download()"
      ],
      "metadata": {
        "colab": {
          "base_uri": "https://localhost:8080/"
        },
        "id": "RjIqLgsdwo4Y",
        "outputId": "5d8bf93d-45d6-4f01-d8b5-6035a737c8fb"
      },
      "execution_count": 24,
      "outputs": [
        {
          "name": "stdout",
          "output_type": "stream",
          "text": [
            "NLTK Downloader\n",
            "---------------------------------------------------------------------------\n",
            "    d) Download   l) List    u) Update   c) Config   h) Help   q) Quit\n",
            "---------------------------------------------------------------------------\n",
            "Downloader> d\n",
            "\n",
            "Download which package (l=list; x=cancel)?\n",
            "  Identifier> punkt\n"
          ]
        },
        {
          "output_type": "stream",
          "name": "stderr",
          "text": [
            "    Downloading package punkt to /root/nltk_data...\n",
            "      Unzipping tokenizers/punkt.zip.\n"
          ]
        },
        {
          "name": "stdout",
          "output_type": "stream",
          "text": [
            "\n",
            "---------------------------------------------------------------------------\n",
            "    d) Download   l) List    u) Update   c) Config   h) Help   q) Quit\n",
            "---------------------------------------------------------------------------\n",
            "Downloader> d\n",
            "\n",
            "Download which package (l=list; x=cancel)?\n",
            "  Identifier> stopwords\n"
          ]
        },
        {
          "output_type": "stream",
          "name": "stderr",
          "text": [
            "    Downloading package stopwords to /root/nltk_data...\n",
            "      Unzipping corpora/stopwords.zip.\n"
          ]
        },
        {
          "name": "stdout",
          "output_type": "stream",
          "text": [
            "\n",
            "---------------------------------------------------------------------------\n",
            "    d) Download   l) List    u) Update   c) Config   h) Help   q) Quit\n",
            "---------------------------------------------------------------------------\n",
            "Downloader> d\n",
            "\n",
            "Download which package (l=list; x=cancel)?\n",
            "  Identifier> wordnet\n"
          ]
        },
        {
          "output_type": "stream",
          "name": "stderr",
          "text": [
            "    Downloading package wordnet to /root/nltk_data...\n"
          ]
        },
        {
          "name": "stdout",
          "output_type": "stream",
          "text": [
            "\n",
            "---------------------------------------------------------------------------\n",
            "    d) Download   l) List    u) Update   c) Config   h) Help   q) Quit\n",
            "---------------------------------------------------------------------------\n",
            "Downloader> q\n"
          ]
        },
        {
          "output_type": "execute_result",
          "data": {
            "text/plain": [
              "True"
            ]
          },
          "metadata": {},
          "execution_count": 24
        }
      ]
    },
    {
      "cell_type": "code",
      "execution_count": 25,
      "metadata": {
        "execution": {
          "iopub.execute_input": "2023-08-21T18:44:33.085090Z",
          "iopub.status.busy": "2023-08-21T18:44:33.084229Z"
        },
        "id": "XXregf0ip4kW"
      },
      "outputs": [],
      "source": [
        "# Applying Text Preprocessing to Specific Columns in a DataFrame\n",
        "columns_to_extract = ['fullname' ,'username' ,'biography']\n",
        "for col in columns_to_extract:\n",
        "\n",
        "    x_train[col] = x_train[col].apply(preprocess_text)\n",
        "    x_val[col] = x_val[col].apply(preprocess_text)\n"
      ]
    },
    {
      "cell_type": "code",
      "execution_count": 26,
      "metadata": {
        "colab": {
          "base_uri": "https://localhost:8080/"
        },
        "id": "roqb3VR8p4kW",
        "outputId": "d9735b50-30fc-4975-edde-93acd43a5d85"
      },
      "outputs": [
        {
          "output_type": "execute_result",
          "data": {
            "text/plain": [
              "array([[0., 0., 0., ..., 0., 0., 0.],\n",
              "       [0., 0., 0., ..., 0., 0., 0.],\n",
              "       [0., 0., 0., ..., 0., 0., 0.],\n",
              "       ...,\n",
              "       [0., 0., 0., ..., 0., 0., 0.],\n",
              "       [0., 0., 0., ..., 0., 0., 0.],\n",
              "       [0., 0., 0., ..., 0., 0., 0.]])"
            ]
          },
          "metadata": {},
          "execution_count": 26
        }
      ],
      "source": [
        "# TF-IDF Vectorization for Textual Features Concatenated from fullname, username, and biography\n",
        "tfidf_vectorizer = TfidfVectorizer()\n",
        "tfidf_vectorizer.fit_transform(x_train.fullname + ' ' + x_train.username + ' ' + x_train.biography).toarray()"
      ]
    },
    {
      "cell_type": "markdown",
      "metadata": {
        "id": "kGBZ6c0Kp4kX"
      },
      "source": [
        "<a id=\"5\"></a>\n",
        "# <p style=\"background-image: url(https://i.postimg.cc/K87ByXmr/stage5.jpg);font-family:camtasia;font-size:120%;color:white;text-align:center;border-radius:15px 50px; padding:7px\">Training and Evaluation of Models Using Tree-based Algorithms</p>\n",
        "<a class=\"btn\" href=\"#home\">Tabel of Contents</a>"
      ]
    },
    {
      "cell_type": "markdown",
      "metadata": {
        "id": "RMPJzEeUp4kX"
      },
      "source": [
        "<html>\n",
        "<head>\n",
        "</head>\n",
        "<body>\n",
        "  <h1>Decision tree-based algorithms</h1>\n",
        "  <p>Decision tree-based algorithms use a tree-like structure for decision-making. They are popular because they are effective and interpretable. These algorithms, like Decision Trees, Random Forests, Extra Trees, and XGBoost, can capture complex relationships, handle different types of data, and provide interpretability. Random Forests and Extra Trees reduce overfitting by using multiple trees, while XGBoost builds trees sequentially to improve performance. Decision tree-based algorithms are important for handling non-linear relationships, missing values, and large datasets. They also provide feature importance, aiding in feature selection and understanding data patterns. Overall, they are widely used for classification tasks.</p>\n",
        "</body>\n",
        "</html>"
      ]
    },
    {
      "cell_type": "code",
      "execution_count": 29,
      "metadata": {
        "id": "RVgS5UZOp4kY",
        "colab": {
          "base_uri": "https://localhost:8080/"
        },
        "outputId": "f3400078-7c37-4bf7-b684-5596e4553913"
      },
      "outputs": [
        {
          "output_type": "stream",
          "name": "stdout",
          "text": [
            "Best score: 0.7166\n",
            "Best parameters: {'learning_rate': 0.5, 'max_depth': 5, 'n_estimators': 150}\n"
          ]
        }
      ],
      "source": [
        "# Define the XGBoost model\n",
        "model = XGBClassifier()\n",
        "\n",
        "# Define the hyperparameters to be tuned\n",
        "param_grid = {\n",
        "    'n_estimators': [50, 100, 150],\n",
        "    'learning_rate': [0.01, 0.1, 0.5],\n",
        "    'max_depth': [2, 3, 4, 5],\n",
        "\n",
        "}\n",
        "\n",
        "# Perform grid search to find the best hyperparameters\n",
        "grid_search = GridSearchCV(model, param_grid, cv=5)\n",
        "grid_search.fit(tfidf_vectorizer.transform(x_train.fullname + ' ' + x_train.username + ' ' + x_train.biography), y_train)\n",
        "\n",
        "# Print the best hyperparameters and the corresponding score\n",
        "print(\"Best score: {:.4f}\".format(grid_search.best_score_))\n",
        "print(\"Best parameters: {}\".format(grid_search.best_params_))"
      ]
    },
    {
      "cell_type": "code",
      "execution_count": 33,
      "metadata": {
        "id": "lJ6NNr4Vp4kY",
        "colab": {
          "base_uri": "https://localhost:8080/"
        },
        "outputId": "2ab05295-5603-4816-e4ec-d1fbe16fc61f"
      },
      "outputs": [
        {
          "output_type": "stream",
          "name": "stdout",
          "text": [
            "Accuracy score (training): 0.858\n",
            "Accuracy score (validation): 0.718\n"
          ]
        }
      ],
      "source": [
        "# setup hyperparameters for XGBClassifier\n",
        "txt_model = XGBClassifier(booster= 'gbtree', learning_rate= 0.5, max_depth= 5, n_estimators=150)\n",
        "txt_model.fit(tfidf_vectorizer.transform(x_train.fullname + ' ' + x_train.username + ' ' + x_train.biography), y_train)\n",
        "y_pred = txt_model.predict(tfidf_vectorizer.transform(x_val.fullname + ' ' + x_val.username + ' ' + x_val.biography))\n",
        "\n",
        "# define the evaluation method\n",
        "cv = StratifiedKFold(n_splits=5, shuffle=True, random_state=7)\n",
        "\n",
        "# evaluate the model on the dataset\n",
        "n_scores = cross_val_score(txt_model, tfidf_vectorizer.transform(x_train.fullname + ' ' + x_train.username + ' ' + x_train.biography), y_train, scoring='accuracy', cv=cv, n_jobs=-1)\n",
        "\n",
        "# report performance\n",
        "print(\"Accuracy score (training): {0:.3f}\".format(txt_model.score(tfidf_vectorizer.transform(x_train.fullname + ' ' + x_train.username + ' ' + x_train.biography), y_train)))\n",
        "print(\"Accuracy score (validation): {0:.3f}\".format(txt_model.score(tfidf_vectorizer.transform(x_val.fullname + ' ' + x_val.username + ' ' + x_val.biography), y_val)))"
      ]
    },
    {
      "cell_type": "code",
      "execution_count": 36,
      "metadata": {
        "id": "DabsD_gap4ka",
        "outputId": "de2344f4-2b16-425d-fb0f-61cec1f40515",
        "colab": {
          "base_uri": "https://localhost:8080/"
        }
      },
      "outputs": [
        {
          "output_type": "stream",
          "name": "stdout",
          "text": [
            "              precision    recall  f1-score   support\n",
            "\n",
            "           0       0.83      0.56      0.67       816\n",
            "           1       0.66      0.88      0.75       784\n",
            "\n",
            "    accuracy                           0.72      1600\n",
            "   macro avg       0.75      0.72      0.71      1600\n",
            "weighted avg       0.75      0.72      0.71      1600\n",
            "\n"
          ]
        }
      ],
      "source": [
        "print(classification_report(y_val, \\\n",
        "                            txt_model.predict(tfidf_vectorizer.transform(x_val.fullname + ' ' + x_val.username + ' ' + x_val.biography))))"
      ]
    },
    {
      "cell_type": "markdown",
      "metadata": {
        "id": "usd-Zuczp4ka"
      },
      "source": [
        "# Save result of Prediction of Gender based on Textual Features using TF-IDF Vectorization in a new columns\n",
        "\n"
      ]
    },
    {
      "cell_type": "code",
      "execution_count": 37,
      "metadata": {
        "id": "bjl5E91gp4ka"
      },
      "outputs": [],
      "source": [
        "# Save result of Prediction of Gender based on Textual Features using TF-IDF Vectorization in a new columns\n",
        "gender_by_txt_features_train =  txt_model.predict(tfidf_vectorizer.transform(x_train.fullname + ' ' + x_train.username + ' ' + x_train.biography))\n",
        "gender_by_txt_features_val =  txt_model.predict(tfidf_vectorizer.transform(x_val.fullname + ' ' + x_val.username + ' ' + x_val.biography))\n",
        "\n",
        "# Save the predicted gender in new columns\n",
        "x_train['gender_by_txt'] = gender_by_txt_features_train\n",
        "x_val['gender_by_txt'] = gender_by_txt_features_val\n",
        "\n",
        "# Removal of Textual Features from Training and Validation Data\n",
        "x_train= x_train.drop(columns=columns_to_extract, axis=1)\n",
        "x_val= x_val.drop(columns=columns_to_extract, axis=1)"
      ]
    },
    {
      "cell_type": "markdown",
      "metadata": {
        "id": "J6OkvQ3Jp4kb"
      },
      "source": [
        "# Model 1: DecisionTreeClassifier"
      ]
    },
    {
      "cell_type": "code",
      "execution_count": 40,
      "metadata": {
        "id": "DAQes2DXp4kc",
        "colab": {
          "base_uri": "https://localhost:8080/"
        },
        "outputId": "07387464-4cd0-4072-a92e-b4dcdc456ba3"
      },
      "outputs": [
        {
          "output_type": "stream",
          "name": "stdout",
          "text": [
            "              precision    recall  f1-score   support\n",
            "\n",
            "           0       0.81      0.68      0.74       816\n",
            "           1       0.72      0.84      0.77       784\n",
            "\n",
            "    accuracy                           0.76      1600\n",
            "   macro avg       0.77      0.76      0.76      1600\n",
            "weighted avg       0.77      0.76      0.76      1600\n",
            "\n",
            "F1-score: 0.7724867724867723\n"
          ]
        }
      ],
      "source": [
        "# Create an instance of the DecisionTreeClassifier\n",
        "DT_model = DecisionTreeClassifier()\n",
        "\n",
        "# Define the hyperparameter grid\n",
        "hyperparameters = {\n",
        "    'max_depth': [3, 5, 7, None],\n",
        "    'min_samples_split': [2, 4, 6, 8],\n",
        "    'min_samples_leaf': [1, 2, 3, 4],\n",
        "    'criterion': ['gini', 'entropy']\n",
        "}\n",
        "\n",
        "# Perform grid search to find the best hyperparameters\n",
        "grid_search = GridSearchCV(DT_model, hyperparameters, cv=5)\n",
        "grid_search.fit(x_train, y_train)\n",
        "\n",
        "# Get the best model and its hyperparameters\n",
        "best_et_classifier = grid_search.best_estimator_\n",
        "best_hyperparameters = grid_search.best_params_\n",
        "\n",
        "# Train the best model on your data\n",
        "best_et_classifier.fit(x_train, y_train)\n",
        "\n",
        "# Make predictions on new data\n",
        "predictions = best_et_classifier.predict(x_val)\n",
        "\n",
        "# Evaluate the model\n",
        "print(classification_report(y_val, predictions))\n",
        "f1 = f1_score(y_val, predictions)\n",
        "print(\"F1-score:\", f1)"
      ]
    },
    {
      "cell_type": "markdown",
      "metadata": {
        "id": "LyP5Hp5Sp4kc"
      },
      "source": [
        "# Model 2: ExtraTreesClassifier"
      ]
    },
    {
      "cell_type": "code",
      "execution_count": 41,
      "metadata": {
        "id": "pb20479ap4kc",
        "colab": {
          "base_uri": "https://localhost:8080/"
        },
        "outputId": "31fa561a-ce46-4241-90d1-95f62d429708"
      },
      "outputs": [
        {
          "output_type": "stream",
          "name": "stdout",
          "text": [
            "              precision    recall  f1-score   support\n",
            "\n",
            "           0       0.83      0.60      0.70       816\n",
            "           1       0.68      0.87      0.76       784\n",
            "\n",
            "    accuracy                           0.74      1600\n",
            "   macro avg       0.76      0.74      0.73      1600\n",
            "weighted avg       0.76      0.74      0.73      1600\n",
            "\n",
            "F1-score: 0.7645089285714286\n"
          ]
        }
      ],
      "source": [
        "# Create an instance of the ExtraTreesClassifier\n",
        "et_classifier = ExtraTreesClassifier()\n",
        "\n",
        "# Define the hyperparameter grid\n",
        "hyperparameters = {\n",
        "    'n_estimators': [100, 200, 300],\n",
        "    'max_depth': [5, 10, None],\n",
        "    'min_samples_split': [2, 4, 6],\n",
        "    'min_samples_leaf': [1, 2, 3],\n",
        "    'criterion': ['gini', 'entropy']\n",
        "}\n",
        "\n",
        "# Perform grid search to find the best hyperparameters\n",
        "grid_search = GridSearchCV(et_classifier, hyperparameters, cv=5)\n",
        "grid_search.fit(x_train, y_train)\n",
        "\n",
        "# Get the best model and its hyperparameters\n",
        "best_et_classifier = grid_search.best_estimator_\n",
        "best_hyperparameters = grid_search.best_params_\n",
        "\n",
        "# Train the best model on your data\n",
        "best_et_classifier.fit(x_train, y_train)\n",
        "\n",
        "# Make predictions on new data\n",
        "predictions = best_et_classifier.predict(x_val)\n",
        "\n",
        "# Evaluate the model\n",
        "print(classification_report(y_val, predictions))\n",
        "f1 = f1_score(y_val, predictions)\n",
        "print(\"F1-score:\", f1)"
      ]
    },
    {
      "cell_type": "markdown",
      "metadata": {
        "id": "dBraWaFDp4kd"
      },
      "source": [
        "# Model 3: RandomForestClassifier"
      ]
    },
    {
      "cell_type": "code",
      "execution_count": 42,
      "metadata": {
        "id": "KYwKg4W9p4kd",
        "colab": {
          "base_uri": "https://localhost:8080/"
        },
        "outputId": "f665ad85-d638-415e-91d9-b2637c1433e6"
      },
      "outputs": [
        {
          "output_type": "stream",
          "name": "stdout",
          "text": [
            "              precision    recall  f1-score   support\n",
            "\n",
            "           0       0.83      0.63      0.72       816\n",
            "           1       0.69      0.86      0.77       784\n",
            "\n",
            "    accuracy                           0.75      1600\n",
            "   macro avg       0.76      0.75      0.74      1600\n",
            "weighted avg       0.76      0.75      0.74      1600\n",
            "\n",
            "F1-score: 0.7704545454545454\n"
          ]
        }
      ],
      "source": [
        "# Create an instance of the RandomForestClassifier\n",
        "RF_model = RandomForestClassifier()\n",
        "\n",
        "# Define the hyperparameter grid\n",
        "hyperparameters = {\n",
        "    'n_estimators': [50, 100, 150, 200, 300],\n",
        "    'max_depth': [2,3,4,5,6,10],\n",
        "    'min_samples_split': [2, 4, 6],\n",
        "    'min_samples_leaf': [1, 2, 3],\n",
        "    'criterion': ['gini', 'entropy']\n",
        "}\n",
        "\n",
        "# Perform grid search to find the best hyperparameters\n",
        "grid_search = GridSearchCV(RF_model, hyperparameters, cv=5)\n",
        "grid_search.fit(x_train, y_train)\n",
        "\n",
        "\n",
        "# Get the best model and its hyperparameters\n",
        "best_et_classifier = grid_search.best_estimator_\n",
        "best_hyperparameters = grid_search.best_params_\n",
        "\n",
        "# Train the best model on your data\n",
        "best_et_classifier.fit(x_train, y_train)\n",
        "\n",
        "# Make predictions on new data\n",
        "predictions = best_et_classifier.predict(x_val)\n",
        "\n",
        "# Evaluate the model\n",
        "print(classification_report(y_val, predictions))\n",
        "f1 = f1_score(y_val, predictions)\n",
        "print(\"F1-score:\", f1)"
      ]
    },
    {
      "cell_type": "markdown",
      "metadata": {
        "id": "3HrOyw0Mp4ke"
      },
      "source": [
        "# Model 4: XGBClassifier"
      ]
    },
    {
      "cell_type": "code",
      "execution_count": 43,
      "metadata": {
        "id": "_WJpkM7dp4ke",
        "colab": {
          "base_uri": "https://localhost:8080/"
        },
        "outputId": "da012319-0cc6-4e3e-d72b-190e9d0f25e4"
      },
      "outputs": [
        {
          "output_type": "stream",
          "name": "stdout",
          "text": [
            "              precision    recall  f1-score   support\n",
            "\n",
            "           0       0.83      0.66      0.73       816\n",
            "           1       0.71      0.86      0.77       784\n",
            "\n",
            "    accuracy                           0.75      1600\n",
            "   macro avg       0.77      0.76      0.75      1600\n",
            "weighted avg       0.77      0.75      0.75      1600\n",
            "\n",
            "F1-score: 0.7737478411053541\n"
          ]
        }
      ],
      "source": [
        "# Create an instance of the XGBClassifier\n",
        "XGB_model = XGBClassifier()\n",
        "\n",
        "# Define the hyperparameter grid\n",
        "hyperparameters = {\n",
        "    'n_estimators': [50, 100, 150],\n",
        "    'learning_rate': [0.01, 0.1, 0.5],\n",
        "    'max_depth': [2, 3, 4, 5],\n",
        "\n",
        "}\n",
        "\n",
        "# Perform grid search to find the best hyperparameters\n",
        "grid_search = GridSearchCV(XGB_model, hyperparameters, cv=5)\n",
        "grid_search.fit(x_train, y_train)\n",
        "\n",
        "\n",
        "# Get the best model and its hyperparameters\n",
        "best_et_classifier = grid_search.best_estimator_\n",
        "best_hyperparameters = grid_search.best_params_\n",
        "\n",
        "# Train the best model on your data\n",
        "best_et_classifier.fit(x_train, y_train)\n",
        "\n",
        "# Make predictions on new data\n",
        "predictions = best_et_classifier.predict(x_val)\n",
        "\n",
        "# Evaluate the model\n",
        "print(classification_report(y_val, predictions))\n",
        "f1 = f1_score(y_val, predictions)\n",
        "print(\"F1-score:\", f1)"
      ]
    },
    {
      "cell_type": "markdown",
      "metadata": {
        "id": "8NiusUb3p4kf"
      },
      "source": [
        "<a id=\"7\"></a>\n",
        "# <p style=\"background-image: url(https://i.postimg.cc/K87ByXmr/stage5.jpg);font-family:camtasia;font-size:120%;color:white;text-align:center;border-radius:15px 50px; padding:7px\">Thank you for taking the time to review my notebook. If you have any questions or criticisms, please kindly let me know in the comments section.  </p>"
      ]
    },
    {
      "cell_type": "code",
      "execution_count": null,
      "metadata": {
        "id": "X_5JGR1ip4kf"
      },
      "outputs": [],
      "source": []
    }
  ],
  "metadata": {
    "kernelspec": {
      "display_name": "Python 3 (ipykernel)",
      "language": "python",
      "name": "python3"
    },
    "language_info": {
      "codemirror_mode": {
        "name": "ipython",
        "version": 3
      },
      "file_extension": ".py",
      "mimetype": "text/x-python",
      "name": "python",
      "nbconvert_exporter": "python",
      "pygments_lexer": "ipython3",
      "version": "3.9.0"
    },
    "colab": {
      "provenance": []
    }
  },
  "nbformat": 4,
  "nbformat_minor": 0
}